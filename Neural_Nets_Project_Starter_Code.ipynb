{
 "cells": [
  {
   "cell_type": "markdown",
   "metadata": {},
   "source": [
    "# Gesture Recognition\n",
    "In this group project, you are going to build a 3D Conv model that will be able to predict the 5 gestures correctly. Please import the following libraries to get started."
   ]
  },
  {
   "cell_type": "code",
   "execution_count": 1,
   "metadata": {},
   "outputs": [],
   "source": [
    "import numpy as np\n",
    "import os\n",
    "# from scipy.misc import imresize\n",
    "# from PIL import Image\n",
    "from skimage.io import imread\n",
    "from skimage.transform import resize\n",
    "import datetime\n",
    "import os"
   ]
  },
  {
   "cell_type": "code",
   "execution_count": 2,
   "metadata": {},
   "outputs": [],
   "source": [
    "# !pip install scipy==1.10.1\n",
    "# !pip install PIL\n",
    "# !pip install pillow\n",
    "# !pip install scipy==1.1.0\n",
    "# !pip uninstall scipy\n",
    "# !pip show scipy #version ==1.9.0"
   ]
  },
  {
   "cell_type": "markdown",
   "metadata": {},
   "source": [
    "We set the random seed so that the results don't vary drastically."
   ]
  },
  {
   "cell_type": "code",
   "execution_count": 3,
   "metadata": {},
   "outputs": [],
   "source": [
    "np.random.seed(30)\n",
    "import random as rn\n",
    "rn.seed(30)\n",
    "from keras import backend as K\n",
    "import tensorflow as tf\n",
    "tf.random.set_seed(30)\n",
    "# tf.set_random_seed(30)"
   ]
  },
  {
   "cell_type": "markdown",
   "metadata": {},
   "source": [
    "In this block, you read the folder names for training and validation. You also set the `batch_size` here. Note that you set the batch size in such a way that you are able to use the GPU in full capacity. You keep increasing the batch size until the machine throws an error."
   ]
  },
  {
   "cell_type": "code",
   "execution_count": 4,
   "metadata": {},
   "outputs": [],
   "source": [
    "train_doc = np.random.permutation(open('./train.csv').readlines())\n",
    "val_doc = np.random.permutation(open('./val.csv').readlines())\n",
    "batch_size = 30 #experiment with the batch size"
   ]
  },
  {
   "cell_type": "markdown",
   "metadata": {},
   "source": [
    "## Generator\n",
    "This is one of the most important part of the code. The overall structure of the generator has been given. In the generator, you are going to preprocess the images as you have images of 2 different dimensions as well as create a batch of video frames. You have to experiment with `img_idx`, `y`,`z` and normalization such that you get high accuracy."
   ]
  },
  {
   "cell_type": "code",
   "execution_count": 5,
   "metadata": {},
   "outputs": [],
   "source": [
    "image_x_shape = 100\n",
    "image_y_shape = 100"
   ]
  },
  {
   "cell_type": "code",
   "execution_count": 6,
   "metadata": {},
   "outputs": [],
   "source": [
    "def generator(source_path, folder_list, batch_size):\n",
    "    print( 'Source path = ', source_path, '; batch size =', batch_size)\n",
    "    img_idx = list(range(0, 30, 3)) #create a list of image numbers you want to use for a particular video\n",
    "    x, y, z = len(img_idx), image_x_shape, image_y_shape\n",
    "    while True:\n",
    "        t = np.random.permutation(folder_list)\n",
    "        total_folders = len(folder_list)\n",
    "        num_batches = total_folders // batch_size # calculate the number of batches\n",
    "        for batch in range(num_batches): # we iterate over the number of batches\n",
    "            batch_data = np.zeros((batch_size,x,y,z,3)) # x is the number of images you use for each video, \n",
    "                                        #(y,z) is the final size of the input images and 3 is the number of channels RGB\n",
    "            batch_labels = np.zeros((batch_size,5)) # batch_labels is the one hot representation of the output\n",
    "            for folder in range(batch_size): # iterate over the batch_size\n",
    "                imgs = os.listdir(source_path+'/'+ t[folder + (batch*batch_size)].split(';')[0]) # read all the images in the folder\n",
    "                for idx,item in enumerate(img_idx): #  Iterate iver the frames/images of a folder to read them in\n",
    "                    image = imread(source_path+'/'+ t[folder + (batch*batch_size)].strip().split(';')[0]+'/'+imgs[item]).astype(np.float32)\n",
    "                    resizedImage = resize(image, (y, z),anti_aliasing=True)\n",
    "                    #crop the images and resize them. Note that the images are of 2 different shape \n",
    "                    #and the conv3D will throw error if the inputs in a batch have different shapes\n",
    "                    \n",
    "                    batch_data[folder,idx,:,:,0] = resizedImage[:, :, 0] / 255 #normalise and feed in the image\n",
    "                    batch_data[folder,idx,:,:,1] = resizedImage[:, :, 1] / 255 #normalise and feed in the image\n",
    "                    batch_data[folder,idx,:,:,2] = resizedImage[:, :, 2] / 255 #normalise and feed in the image\n",
    "                    \n",
    "                batch_labels[folder, int(t[folder + (batch*batch_size)].strip().split(';')[2])] = 1\n",
    "            yield batch_data, batch_labels #you yield the batch_data and the batch_labels, remember what does yield do\n",
    "\n",
    "        \n",
    "        missing_count = total_folders - (num_batches * batch_size)\n",
    "        for folder in range(missing_count):\n",
    "            imgs = os.listdir(source_path+'/'+ t[folder + (batch*batch_size)].split(';')[0]) # read all the images in the folder\n",
    "            for idx,item in enumerate(img_idx): #  Iterate iver the frames/images of a folder to read them in\n",
    "                image = imread(source_path+'/'+ t[folder + (batch*batch_size)].strip().split(';')[0]+'/'+imgs[item]).astype(np.float32)\n",
    "                resizedImage = resize(image, (y, z),anti_aliasing=True)\n",
    "                #crop the images and resize them. Note that the images are of 2 different shape \n",
    "                #and the conv3D will throw error if the inputs in a batch have different shapes\n",
    "\n",
    "                batch_data[folder,idx,:,:,0] = resizedImage[:, :, 0] / 255 #normalise and feed in the image\n",
    "                batch_data[folder,idx,:,:,1] = resizedImage[:, :, 1] / 255 #normalise and feed in the image\n",
    "                batch_data[folder,idx,:,:,2] = resizedImage[:, :, 2] / 255 #normalise and feed in the image\n",
    "\n",
    "            batch_labels[folder, int(t[folder + (batch*batch_size)].strip().split(';')[2])] = 1\n",
    "        yield batch_data, batch_labels\n",
    "    # write the code for the remaining data points which are left after full batches\n"
   ]
  },
  {
   "cell_type": "markdown",
   "metadata": {},
   "source": [
    "Note here that a video is represented above in the generator as (number of images, height, width, number of channels). Take this into consideration while creating the model architecture."
   ]
  },
  {
   "cell_type": "code",
   "execution_count": 7,
   "metadata": {},
   "outputs": [
    {
     "name": "stdout",
     "output_type": "stream",
     "text": [
      "# training sequences = 663\n",
      "# validation sequences = 100\n",
      "# epochs = 30\n"
     ]
    }
   ],
   "source": [
    "curr_dt_time = datetime.datetime.now()\n",
    "train_path = './train'\n",
    "val_path = './val'\n",
    "num_train_sequences = len(train_doc)\n",
    "print('# training sequences =', num_train_sequences)\n",
    "num_val_sequences = len(val_doc)\n",
    "print('# validation sequences =', num_val_sequences)\n",
    "num_epochs = 30 # choose the number of epochs\n",
    "print ('# epochs =', num_epochs)"
   ]
  },
  {
   "cell_type": "markdown",
   "metadata": {},
   "source": [
    "## Model\n",
    "Here you make the model using different functionalities that Keras provides. Remember to use `Conv3D` and `MaxPooling3D` and not `Conv2D` and `Maxpooling2D` for a 3D convolution model. You would want to use `TimeDistributed` while building a Conv2D + RNN model. Also remember that the last layer is the softmax. Design the network in such a way that the model is able to give good accuracy on the least number of parameters so that it can fit in the memory of the webcam."
   ]
  },
  {
   "cell_type": "code",
   "execution_count": 8,
   "metadata": {},
   "outputs": [],
   "source": [
    "from keras.models import Sequential, Model\n",
    "from sklearn.metrics import roc_auc_score\n",
    "from keras.layers import Dense, GRU, Flatten, TimeDistributed, Flatten, BatchNormalization, Activation, Conv2D, Dropout\n",
    "from keras.layers.convolutional import Conv3D, MaxPooling3D, MaxPooling2D\n",
    "from keras.callbacks import ModelCheckpoint, ReduceLROnPlateau, EarlyStopping\n",
    "from keras import optimizers, regularizers\n",
    "from keras.regularizers import l2\n",
    "import keras\n",
    "\n",
    "#write your model here"
   ]
  },
  {
   "cell_type": "code",
   "execution_count": 9,
   "metadata": {},
   "outputs": [],
   "source": [
    "reduceLR = ReduceLROnPlateau(monitor = \"val_loss\", factor = 0.1, patience = 2,\n",
    "                             verbose = 1, mode = \"auto\", cooldown = 0)"
   ]
  },
  {
   "cell_type": "code",
   "execution_count": 10,
   "metadata": {},
   "outputs": [],
   "source": [
    "import keras\n",
    "class DecayLR(keras.callbacks.Callback):\n",
    "    \n",
    "    def __init__(self, base_lr=0.01, decay_epoch=1):\n",
    "        super(DecayLR, self).__init__()\n",
    "        self.base_lr = base_lr\n",
    "        self.lr_history = []\n",
    "        self.decay_epoch = decay_epoch\n",
    "        \n",
    "    def on_train_begin(self, logs={}):\n",
    "        K.set_value(self.model.optimizer.lr, self.base_lr)\n",
    "        \n",
    "    def on_epoch_end(self, epoch, logs={}):\n",
    "        new_lr = self.base_lr * (0.5 ** (epoch // self.decay_epoch))\n",
    "        self.lr_history.append(K.get_value(self.model.optimizer.lr))\n",
    "        K.set_value(self.model.optimizer.lr, new_lr)"
   ]
  },
  {
   "cell_type": "code",
   "execution_count": 11,
   "metadata": {},
   "outputs": [],
   "source": [
    "class Convolution2DWithGRU():\n",
    "    def __init__(self):\n",
    "        return None\n",
    "    \n",
    "    def model(self, batch_size):\n",
    "        cnn_model = Sequential()\n",
    "        cnn_model.add(TimeDistributed(Conv2D(32, (1, 1), padding='same'), input_shape=(10, image_x_shape, image_y_shape, 3)))\n",
    "        cnn_model.add(TimeDistributed(Activation('relu')))\n",
    "        cnn_model.add(TimeDistributed(MaxPooling2D((3, 3), strides = (2,2))))\n",
    "        cnn_model.add(TimeDistributed(BatchNormalization()))\n",
    "        \n",
    "        cnn_model.add(TimeDistributed(Conv2D(32, (3, 3), padding='same')))\n",
    "        cnn_model.add(TimeDistributed(Activation('relu')))\n",
    "        cnn_model.add(TimeDistributed(MaxPooling2D((3, 3), strides = (2,2))))\n",
    "        cnn_model.add(TimeDistributed(BatchNormalization()))\n",
    "        \n",
    "        cnn_model.add(TimeDistributed(Conv2D(64, (3, 3), padding='same', kernel_regularizer=l2(0.01), bias_regularizer=l2(0.01))))\n",
    "        cnn_model.add(TimeDistributed(Activation('relu')))\n",
    "        cnn_model.add(TimeDistributed(BatchNormalization()))\n",
    "        cnn_model.add(Dropout(0.25))\n",
    "        \n",
    "        cnn_model.add(TimeDistributed(Conv2D(64, (3, 3), padding='same', kernel_regularizer=l2(0.01), bias_regularizer=l2(0.01))))\n",
    "        cnn_model.add(TimeDistributed(Activation('relu')))\n",
    "        \n",
    "        \n",
    "        cnn_model.add(TimeDistributed(MaxPooling2D((3, 3))))\n",
    "        \n",
    "        cnn_model.add(TimeDistributed(Conv2D(64, (3, 3), padding='same')))\n",
    "        cnn_model.add(TimeDistributed(Activation('relu')))\n",
    "        \n",
    "        cnn_model.add(Dropout(0.25))\n",
    "        \n",
    "        cnn_model.add(TimeDistributed(Conv2D(128, (3, 3), padding='same', kernel_regularizer=l2(0.01), bias_regularizer=l2(0.01))))\n",
    "        cnn_model.add(TimeDistributed(Activation('relu')))\n",
    "\n",
    "        cnn_model.add(Dropout(0.50))\n",
    "        \n",
    "        cnn_model.add(TimeDistributed(Conv2D(256, (5, 5), padding='same', kernel_regularizer=l2(0.01), bias_regularizer=l2(0.01))))\n",
    "        cnn_model.add(TimeDistributed(Activation('relu')))\n",
    "\n",
    "        \n",
    "        cnn_model.add(TimeDistributed(Flatten()))\n",
    "#         cnn_model.add(Dense(20))\n",
    "        \n",
    "        cnn_model.add(Dense(16))\n",
    "        cnn_model.add(Dropout(.50))\n",
    "        cnn_model.add(GRU(64, return_sequences=False))\n",
    "#         cnn_model.add(Dense(32))\n",
    "        cnn_model.add(Dense(5, activation='softmax'))\n",
    "        return cnn_model"
   ]
  },
  {
   "cell_type": "markdown",
   "metadata": {},
   "source": [
    "Now that you have written the model, the next step is to `compile` the model. When you print the `summary` of the model, you'll see the total number of parameters you have to train."
   ]
  },
  {
   "cell_type": "code",
   "execution_count": 12,
   "metadata": {
    "scrolled": true
   },
   "outputs": [
    {
     "name": "stdout",
     "output_type": "stream",
     "text": [
      "Model: \"sequential\"\n",
      "_________________________________________________________________\n",
      " Layer (type)                Output Shape              Param #   \n",
      "=================================================================\n",
      " time_distributed (TimeDistr  (None, 10, 100, 100, 32)  128      \n",
      " ibuted)                                                         \n",
      "                                                                 \n",
      " time_distributed_1 (TimeDis  (None, 10, 100, 100, 32)  0        \n",
      " tributed)                                                       \n",
      "                                                                 \n",
      " time_distributed_2 (TimeDis  (None, 10, 49, 49, 32)   0         \n",
      " tributed)                                                       \n",
      "                                                                 \n",
      " time_distributed_3 (TimeDis  (None, 10, 49, 49, 32)   128       \n",
      " tributed)                                                       \n",
      "                                                                 \n",
      " time_distributed_4 (TimeDis  (None, 10, 49, 49, 32)   9248      \n",
      " tributed)                                                       \n",
      "                                                                 \n",
      " time_distributed_5 (TimeDis  (None, 10, 49, 49, 32)   0         \n",
      " tributed)                                                       \n",
      "                                                                 \n",
      " time_distributed_6 (TimeDis  (None, 10, 24, 24, 32)   0         \n",
      " tributed)                                                       \n",
      "                                                                 \n",
      " time_distributed_7 (TimeDis  (None, 10, 24, 24, 32)   128       \n",
      " tributed)                                                       \n",
      "                                                                 \n",
      " time_distributed_8 (TimeDis  (None, 10, 24, 24, 64)   18496     \n",
      " tributed)                                                       \n",
      "                                                                 \n",
      " time_distributed_9 (TimeDis  (None, 10, 24, 24, 64)   0         \n",
      " tributed)                                                       \n",
      "                                                                 \n",
      " time_distributed_10 (TimeDi  (None, 10, 24, 24, 64)   256       \n",
      " stributed)                                                      \n",
      "                                                                 \n",
      " dropout (Dropout)           (None, 10, 24, 24, 64)    0         \n",
      "                                                                 \n",
      " time_distributed_11 (TimeDi  (None, 10, 24, 24, 64)   36928     \n",
      " stributed)                                                      \n",
      "                                                                 \n",
      " time_distributed_12 (TimeDi  (None, 10, 24, 24, 64)   0         \n",
      " stributed)                                                      \n",
      "                                                                 \n",
      " time_distributed_13 (TimeDi  (None, 10, 8, 8, 64)     0         \n",
      " stributed)                                                      \n",
      "                                                                 \n",
      " time_distributed_14 (TimeDi  (None, 10, 8, 8, 64)     36928     \n",
      " stributed)                                                      \n",
      "                                                                 \n",
      " time_distributed_15 (TimeDi  (None, 10, 8, 8, 64)     0         \n",
      " stributed)                                                      \n",
      "                                                                 \n",
      " dropout_1 (Dropout)         (None, 10, 8, 8, 64)      0         \n",
      "                                                                 \n",
      " time_distributed_16 (TimeDi  (None, 10, 8, 8, 128)    73856     \n",
      " stributed)                                                      \n",
      "                                                                 \n",
      " time_distributed_17 (TimeDi  (None, 10, 8, 8, 128)    0         \n",
      " stributed)                                                      \n",
      "                                                                 \n",
      " dropout_2 (Dropout)         (None, 10, 8, 8, 128)     0         \n",
      "                                                                 \n",
      " time_distributed_18 (TimeDi  (None, 10, 8, 8, 256)    819456    \n",
      " stributed)                                                      \n",
      "                                                                 \n",
      " time_distributed_19 (TimeDi  (None, 10, 8, 8, 256)    0         \n",
      " stributed)                                                      \n",
      "                                                                 \n",
      " time_distributed_20 (TimeDi  (None, 10, 16384)        0         \n",
      " stributed)                                                      \n",
      "                                                                 \n",
      " dense (Dense)               (None, 10, 16)            262160    \n",
      "                                                                 \n",
      " dropout_3 (Dropout)         (None, 10, 16)            0         \n",
      "                                                                 \n",
      " gru (GRU)                   (None, 64)                15744     \n",
      "                                                                 \n",
      " dense_1 (Dense)             (None, 5)                 325       \n",
      "                                                                 \n",
      "=================================================================\n",
      "Total params: 1,273,781\n",
      "Trainable params: 1,273,525\n",
      "Non-trainable params: 256\n",
      "_________________________________________________________________\n",
      "None\n"
     ]
    }
   ],
   "source": [
    "obj = Convolution2DWithGRU()\n",
    "model = obj.model(batch_size)\n",
    "optimiser = optimizers.Adam() #write your optimizer\n",
    "\n",
    "model.compile(optimizer=optimiser, loss='categorical_crossentropy', metrics=['categorical_accuracy'])\n",
    "print (model.summary())"
   ]
  },
  {
   "cell_type": "markdown",
   "metadata": {},
   "source": [
    "Let us create the `train_generator` and the `val_generator` which will be used in `.fit_generator`."
   ]
  },
  {
   "cell_type": "code",
   "execution_count": 13,
   "metadata": {},
   "outputs": [],
   "source": [
    "train_generator = generator(train_path, train_doc, batch_size)\n",
    "val_generator = generator(val_path, val_doc, batch_size)"
   ]
  },
  {
   "cell_type": "code",
   "execution_count": 14,
   "metadata": {},
   "outputs": [
    {
     "name": "stdout",
     "output_type": "stream",
     "text": [
      "WARNING:tensorflow:`period` argument is deprecated. Please use `save_freq` to specify the frequency in number of batches seen.\n"
     ]
    }
   ],
   "source": [
    "model_name = 'model_init' + '_' + str(curr_dt_time).replace(' ','').replace(':','_') + '/'\n",
    "    \n",
    "if not os.path.exists(model_name):\n",
    "    os.mkdir(model_name)\n",
    "        \n",
    "filepath = model_name + 'model-{epoch:05d}-{loss:.5f}-{categorical_accuracy:.5f}-{val_loss:.5f}-{val_categorical_accuracy:.5f}.h5'\n",
    "\n",
    "checkpoint = ModelCheckpoint(filepath, monitor='val_loss', verbose=1, save_best_only=False, save_weights_only=False, mode='auto', period=1)\n",
    "\n",
    "LR = DecayLR(base_lr=0.1) # write the REducelronplateau code here\n",
    "# callbacks_list = [checkpoint, LR]\n",
    "# roc_callback = RocCallback()\n",
    "callbacks_list = [checkpoint,reduceLR]"
   ]
  },
  {
   "cell_type": "markdown",
   "metadata": {},
   "source": [
    "The `steps_per_epoch` and `validation_steps` are used by `fit_generator` to decide the number of next() calls it need to make."
   ]
  },
  {
   "cell_type": "code",
   "execution_count": 15,
   "metadata": {},
   "outputs": [],
   "source": [
    "if (num_train_sequences%batch_size) == 0:\n",
    "    steps_per_epoch = int(num_train_sequences/batch_size)\n",
    "else:\n",
    "    steps_per_epoch = (num_train_sequences//batch_size) + 1\n",
    "\n",
    "if (num_val_sequences%batch_size) == 0:\n",
    "    validation_steps = int(num_val_sequences/batch_size)\n",
    "else:\n",
    "    validation_steps = (num_val_sequences//batch_size) + 1"
   ]
  },
  {
   "cell_type": "markdown",
   "metadata": {},
   "source": [
    "Let us now fit the model. This will start training the model and with the help of the checkpoints, you'll be able to save the model at the end of each epoch."
   ]
  },
  {
   "cell_type": "code",
   "execution_count": 16,
   "metadata": {},
   "outputs": [
    {
     "name": "stdout",
     "output_type": "stream",
     "text": [
      "Source path =  ./train ; batch size = 30\n",
      "Epoch 1/30\n",
      "23/23 [==============================] - ETA: 0s - loss: 4.7223 - categorical_accuracy: 0.1623Source path =  ./val ; batch size = 30\n",
      "\n",
      "Epoch 1: saving model to model_init_2023-03-0411_30_32.668325\\model-00001-4.72228-0.16232-3.61635-0.20000.h5\n",
      "23/23 [==============================] - 105s 4s/step - loss: 4.7223 - categorical_accuracy: 0.1623 - val_loss: 3.6163 - val_categorical_accuracy: 0.2000 - lr: 0.0010\n",
      "Epoch 2/30\n",
      "23/23 [==============================] - ETA: 0s - loss: 3.0367 - categorical_accuracy: 0.2130\n",
      "Epoch 2: saving model to model_init_2023-03-0411_30_32.668325\\model-00002-3.03675-0.21304-2.56176-0.19167.h5\n",
      "23/23 [==============================] - 97s 4s/step - loss: 3.0367 - categorical_accuracy: 0.2130 - val_loss: 2.5618 - val_categorical_accuracy: 0.1917 - lr: 0.0010\n",
      "Epoch 3/30\n",
      "23/23 [==============================] - ETA: 0s - loss: 2.1812 - categorical_accuracy: 0.3377\n",
      "Epoch 3: saving model to model_init_2023-03-0411_30_32.668325\\model-00003-2.18120-0.33768-2.16098-0.25833.h5\n",
      "23/23 [==============================] - 89s 4s/step - loss: 2.1812 - categorical_accuracy: 0.3377 - val_loss: 2.1610 - val_categorical_accuracy: 0.2583 - lr: 0.0010\n",
      "Epoch 4/30\n",
      "23/23 [==============================] - ETA: 0s - loss: 1.7668 - categorical_accuracy: 0.4333\n",
      "Epoch 4: saving model to model_init_2023-03-0411_30_32.668325\\model-00004-1.76676-0.43333-1.99494-0.26667.h5\n",
      "23/23 [==============================] - 87s 4s/step - loss: 1.7668 - categorical_accuracy: 0.4333 - val_loss: 1.9949 - val_categorical_accuracy: 0.2667 - lr: 0.0010\n",
      "Epoch 5/30\n",
      "23/23 [==============================] - ETA: 0s - loss: 1.4293 - categorical_accuracy: 0.5232\n",
      "Epoch 5: saving model to model_init_2023-03-0411_30_32.668325\\model-00005-1.42934-0.52319-1.84078-0.16667.h5\n",
      "23/23 [==============================] - 89s 4s/step - loss: 1.4293 - categorical_accuracy: 0.5232 - val_loss: 1.8408 - val_categorical_accuracy: 0.1667 - lr: 0.0010\n",
      "Epoch 6/30\n",
      "23/23 [==============================] - ETA: 0s - loss: 1.2750 - categorical_accuracy: 0.6043\n",
      "Epoch 6: saving model to model_init_2023-03-0411_30_32.668325\\model-00006-1.27497-0.60435-1.82547-0.23333.h5\n",
      "23/23 [==============================] - 88s 4s/step - loss: 1.2750 - categorical_accuracy: 0.6043 - val_loss: 1.8255 - val_categorical_accuracy: 0.2333 - lr: 0.0010\n",
      "Epoch 7/30\n",
      "23/23 [==============================] - ETA: 0s - loss: 1.0428 - categorical_accuracy: 0.6855\n",
      "Epoch 7: saving model to model_init_2023-03-0411_30_32.668325\\model-00007-1.04284-0.68551-1.79725-0.22500.h5\n",
      "23/23 [==============================] - 89s 4s/step - loss: 1.0428 - categorical_accuracy: 0.6855 - val_loss: 1.7973 - val_categorical_accuracy: 0.2250 - lr: 0.0010\n",
      "Epoch 8/30\n",
      "23/23 [==============================] - ETA: 0s - loss: 0.9400 - categorical_accuracy: 0.7261\n",
      "Epoch 8: saving model to model_init_2023-03-0411_30_32.668325\\model-00008-0.93995-0.72609-1.79678-0.19167.h5\n",
      "23/23 [==============================] - 89s 4s/step - loss: 0.9400 - categorical_accuracy: 0.7261 - val_loss: 1.7968 - val_categorical_accuracy: 0.1917 - lr: 0.0010\n",
      "Epoch 9/30\n",
      "23/23 [==============================] - ETA: 0s - loss: 0.8056 - categorical_accuracy: 0.7667\n",
      "Epoch 9: saving model to model_init_2023-03-0411_30_32.668325\\model-00009-0.80557-0.76667-1.72924-0.30000.h5\n",
      "23/23 [==============================] - 90s 4s/step - loss: 0.8056 - categorical_accuracy: 0.7667 - val_loss: 1.7292 - val_categorical_accuracy: 0.3000 - lr: 0.0010\n",
      "Epoch 10/30\n",
      "23/23 [==============================] - ETA: 0s - loss: 0.7575 - categorical_accuracy: 0.7754\n",
      "Epoch 10: saving model to model_init_2023-03-0411_30_32.668325\\model-00010-0.75753-0.77536-2.20045-0.24167.h5\n",
      "23/23 [==============================] - 96s 4s/step - loss: 0.7575 - categorical_accuracy: 0.7754 - val_loss: 2.2005 - val_categorical_accuracy: 0.2417 - lr: 0.0010\n",
      "Epoch 11/30\n",
      "23/23 [==============================] - ETA: 0s - loss: 0.6835 - categorical_accuracy: 0.7913\n",
      "Epoch 11: saving model to model_init_2023-03-0411_30_32.668325\\model-00011-0.68350-0.79130-1.50496-0.46667.h5\n",
      "23/23 [==============================] - 91s 4s/step - loss: 0.6835 - categorical_accuracy: 0.7913 - val_loss: 1.5050 - val_categorical_accuracy: 0.4667 - lr: 0.0010\n",
      "Epoch 12/30\n",
      "23/23 [==============================] - ETA: 0s - loss: 0.6538 - categorical_accuracy: 0.8043\n",
      "Epoch 12: saving model to model_init_2023-03-0411_30_32.668325\\model-00012-0.65377-0.80435-1.88369-0.22500.h5\n",
      "23/23 [==============================] - 88s 4s/step - loss: 0.6538 - categorical_accuracy: 0.8043 - val_loss: 1.8837 - val_categorical_accuracy: 0.2250 - lr: 0.0010\n",
      "Epoch 13/30\n",
      "23/23 [==============================] - ETA: 0s - loss: 0.5696 - categorical_accuracy: 0.8551\n",
      "Epoch 13: saving model to model_init_2023-03-0411_30_32.668325\\model-00013-0.56960-0.85507-1.84876-0.26667.h5\n",
      "\n",
      "Epoch 13: ReduceLROnPlateau reducing learning rate to 0.00010000000474974513.\n",
      "23/23 [==============================] - 89s 4s/step - loss: 0.5696 - categorical_accuracy: 0.8551 - val_loss: 1.8488 - val_categorical_accuracy: 0.2667 - lr: 0.0010\n",
      "Epoch 14/30\n",
      "23/23 [==============================] - ETA: 0s - loss: 0.5143 - categorical_accuracy: 0.8725\n",
      "Epoch 14: saving model to model_init_2023-03-0411_30_32.668325\\model-00014-0.51427-0.87246-2.59796-0.20000.h5\n",
      "23/23 [==============================] - 92s 4s/step - loss: 0.5143 - categorical_accuracy: 0.8725 - val_loss: 2.5980 - val_categorical_accuracy: 0.2000 - lr: 1.0000e-04\n",
      "Epoch 15/30\n",
      "23/23 [==============================] - ETA: 0s - loss: 0.4157 - categorical_accuracy: 0.9188\n",
      "Epoch 15: saving model to model_init_2023-03-0411_30_32.668325\\model-00015-0.41567-0.91884-1.98483-0.29167.h5\n",
      "\n",
      "Epoch 15: ReduceLROnPlateau reducing learning rate to 1.0000000474974514e-05.\n",
      "23/23 [==============================] - 95s 4s/step - loss: 0.4157 - categorical_accuracy: 0.9188 - val_loss: 1.9848 - val_categorical_accuracy: 0.2917 - lr: 1.0000e-04\n",
      "Epoch 16/30\n",
      "23/23 [==============================] - ETA: 0s - loss: 0.4079 - categorical_accuracy: 0.9217\n",
      "Epoch 16: saving model to model_init_2023-03-0411_30_32.668325\\model-00016-0.40791-0.92174-1.81503-0.34167.h5\n",
      "23/23 [==============================] - 87s 4s/step - loss: 0.4079 - categorical_accuracy: 0.9217 - val_loss: 1.8150 - val_categorical_accuracy: 0.3417 - lr: 1.0000e-05\n",
      "Epoch 17/30\n",
      "23/23 [==============================] - ETA: 0s - loss: 0.4075 - categorical_accuracy: 0.9101\n",
      "Epoch 17: saving model to model_init_2023-03-0411_30_32.668325\\model-00017-0.40752-0.91014-1.69457-0.37500.h5\n",
      "\n",
      "Epoch 17: ReduceLROnPlateau reducing learning rate to 1.0000000656873453e-06.\n",
      "23/23 [==============================] - 63s 3s/step - loss: 0.4075 - categorical_accuracy: 0.9101 - val_loss: 1.6946 - val_categorical_accuracy: 0.3750 - lr: 1.0000e-05\n",
      "Epoch 18/30\n",
      "23/23 [==============================] - ETA: 0s - loss: 0.3911 - categorical_accuracy: 0.9275\n",
      "Epoch 18: saving model to model_init_2023-03-0411_30_32.668325\\model-00018-0.39108-0.92754-1.53650-0.47500.h5\n",
      "23/23 [==============================] - 51s 2s/step - loss: 0.3911 - categorical_accuracy: 0.9275 - val_loss: 1.5365 - val_categorical_accuracy: 0.4750 - lr: 1.0000e-06\n",
      "Epoch 19/30\n",
      "23/23 [==============================] - ETA: 0s - loss: 0.3879 - categorical_accuracy: 0.9261\n",
      "Epoch 19: saving model to model_init_2023-03-0411_30_32.668325\\model-00019-0.38795-0.92609-1.44482-0.41667.h5\n",
      "23/23 [==============================] - 52s 2s/step - loss: 0.3879 - categorical_accuracy: 0.9261 - val_loss: 1.4448 - val_categorical_accuracy: 0.4167 - lr: 1.0000e-06\n",
      "Epoch 20/30\n",
      "23/23 [==============================] - ETA: 0s - loss: 0.3894 - categorical_accuracy: 0.9261\n",
      "Epoch 20: saving model to model_init_2023-03-0411_30_32.668325\\model-00020-0.38938-0.92609-1.29928-0.55833.h5\n",
      "23/23 [==============================] - 51s 2s/step - loss: 0.3894 - categorical_accuracy: 0.9261 - val_loss: 1.2993 - val_categorical_accuracy: 0.5583 - lr: 1.0000e-06\n",
      "Epoch 21/30\n",
      "23/23 [==============================] - ETA: 0s - loss: 0.3903 - categorical_accuracy: 0.9203\n",
      "Epoch 21: saving model to model_init_2023-03-0411_30_32.668325\\model-00021-0.39031-0.92029-1.22263-0.57500.h5\n"
     ]
    },
    {
     "name": "stdout",
     "output_type": "stream",
     "text": [
      "23/23 [==============================] - 56s 2s/step - loss: 0.3903 - categorical_accuracy: 0.9203 - val_loss: 1.2226 - val_categorical_accuracy: 0.5750 - lr: 1.0000e-06\n",
      "Epoch 22/30\n",
      "23/23 [==============================] - ETA: 0s - loss: 0.3965 - categorical_accuracy: 0.9174\n",
      "Epoch 22: saving model to model_init_2023-03-0411_30_32.668325\\model-00022-0.39649-0.91739-0.97992-0.65833.h5\n",
      "23/23 [==============================] - 56s 3s/step - loss: 0.3965 - categorical_accuracy: 0.9174 - val_loss: 0.9799 - val_categorical_accuracy: 0.6583 - lr: 1.0000e-06\n",
      "Epoch 23/30\n",
      "23/23 [==============================] - ETA: 0s - loss: 0.4053 - categorical_accuracy: 0.9116\n",
      "Epoch 23: saving model to model_init_2023-03-0411_30_32.668325\\model-00023-0.40530-0.91159-0.83067-0.73333.h5\n",
      "23/23 [==============================] - 57s 3s/step - loss: 0.4053 - categorical_accuracy: 0.9116 - val_loss: 0.8307 - val_categorical_accuracy: 0.7333 - lr: 1.0000e-06\n",
      "Epoch 24/30\n",
      "23/23 [==============================] - ETA: 0s - loss: 0.3892 - categorical_accuracy: 0.9217\n",
      "Epoch 24: saving model to model_init_2023-03-0411_30_32.668325\\model-00024-0.38916-0.92174-0.87370-0.70000.h5\n",
      "23/23 [==============================] - 57s 3s/step - loss: 0.3892 - categorical_accuracy: 0.9217 - val_loss: 0.8737 - val_categorical_accuracy: 0.7000 - lr: 1.0000e-06\n",
      "Epoch 25/30\n",
      "23/23 [==============================] - ETA: 0s - loss: 0.3906 - categorical_accuracy: 0.9261\n",
      "Epoch 25: saving model to model_init_2023-03-0411_30_32.668325\\model-00025-0.39060-0.92609-0.87206-0.72500.h5\n",
      "\n",
      "Epoch 25: ReduceLROnPlateau reducing learning rate to 1.0000001111620805e-07.\n",
      "23/23 [==============================] - 58s 3s/step - loss: 0.3906 - categorical_accuracy: 0.9261 - val_loss: 0.8721 - val_categorical_accuracy: 0.7250 - lr: 1.0000e-06\n",
      "Epoch 26/30\n",
      "23/23 [==============================] - ETA: 0s - loss: 0.3942 - categorical_accuracy: 0.9174\n",
      "Epoch 26: saving model to model_init_2023-03-0411_30_32.668325\\model-00026-0.39421-0.91739-0.94658-0.75833.h5\n",
      "23/23 [==============================] - 58s 3s/step - loss: 0.3942 - categorical_accuracy: 0.9174 - val_loss: 0.9466 - val_categorical_accuracy: 0.7583 - lr: 1.0000e-07\n",
      "Epoch 27/30\n",
      "23/23 [==============================] - ETA: 0s - loss: 0.4055 - categorical_accuracy: 0.9203\n",
      "Epoch 27: saving model to model_init_2023-03-0411_30_32.668325\\model-00027-0.40548-0.92029-0.57005-0.86667.h5\n",
      "23/23 [==============================] - 62s 3s/step - loss: 0.4055 - categorical_accuracy: 0.9203 - val_loss: 0.5701 - val_categorical_accuracy: 0.8667 - lr: 1.0000e-07\n",
      "Epoch 28/30\n",
      "23/23 [==============================] - ETA: 0s - loss: 0.3918 - categorical_accuracy: 0.9232\n",
      "Epoch 28: saving model to model_init_2023-03-0411_30_32.668325\\model-00028-0.39178-0.92319-0.73657-0.81667.h5\n",
      "23/23 [==============================] - 60s 3s/step - loss: 0.3918 - categorical_accuracy: 0.9232 - val_loss: 0.7366 - val_categorical_accuracy: 0.8167 - lr: 1.0000e-07\n",
      "Epoch 29/30\n",
      "23/23 [==============================] - ETA: 0s - loss: 0.3923 - categorical_accuracy: 0.9246\n",
      "Epoch 29: saving model to model_init_2023-03-0411_30_32.668325\\model-00029-0.39231-0.92464-0.66091-0.82500.h5\n",
      "\n",
      "Epoch 29: ReduceLROnPlateau reducing learning rate to 1.000000082740371e-08.\n",
      "23/23 [==============================] - 60s 3s/step - loss: 0.3923 - categorical_accuracy: 0.9246 - val_loss: 0.6609 - val_categorical_accuracy: 0.8250 - lr: 1.0000e-07\n",
      "Epoch 30/30\n",
      "23/23 [==============================] - ETA: 0s - loss: 0.3773 - categorical_accuracy: 0.9232\n",
      "Epoch 30: saving model to model_init_2023-03-0411_30_32.668325\\model-00030-0.37732-0.92319-0.64844-0.85000.h5\n",
      "23/23 [==============================] - 60s 3s/step - loss: 0.3773 - categorical_accuracy: 0.9232 - val_loss: 0.6484 - val_categorical_accuracy: 0.8500 - lr: 1.0000e-08\n"
     ]
    },
    {
     "data": {
      "text/plain": [
       "<keras.callbacks.History at 0x1e1e976f910>"
      ]
     },
     "execution_count": 16,
     "metadata": {},
     "output_type": "execute_result"
    }
   ],
   "source": [
    "#_generator\n",
    "model.fit(train_generator, steps_per_epoch=steps_per_epoch, epochs=num_epochs, verbose=1, \n",
    "                    callbacks=callbacks_list, validation_data=val_generator, \n",
    "                    validation_steps=validation_steps, class_weight=None, workers=1, initial_epoch=0)"
   ]
  },
  {
   "cell_type": "code",
   "execution_count": 18,
   "metadata": {},
   "outputs": [
    {
     "name": "stdout",
     "output_type": "stream",
     "text": [
      "<keras.callbacks.History object at 0x000001E1E976F910>\n"
     ]
    }
   ],
   "source": [
    "print(model.history)"
   ]
  },
  {
   "cell_type": "code",
   "execution_count": 19,
   "metadata": {},
   "outputs": [],
   "source": [
    "import matplotlib.pyplot as plt\n",
    "\n",
    "class PlotMetrics():\n",
    "    \n",
    "    def draw(self, history):\n",
    "        # ===> loss summary\n",
    "        \n",
    "        f, (ax1, ax2) = plt.subplots(1, 2, sharey=False)\n",
    "        f.set_figheight(5)\n",
    "        f.set_figwidth(15)\n",
    "        \n",
    "        ax1.plot(history.history['val_categorical_accuracy'])\n",
    "        ax1.plot(history.history['categorical_accuracy'])\n",
    "        ax1.title.set_text('model accuracy')\n",
    "        ax1.set_ylabel('accuracy')\n",
    "        ax1.set_xlabel('epoch')\n",
    "        ax1.legend(['train', 'test'], loc='upper left')\n",
    "        \n",
    "        ax2.plot(history.history['val_loss'])\n",
    "        ax2.plot(history.history['loss'])\n",
    "        ax2.title.set_text('Loss function')\n",
    "        ax2.set_ylabel('Loss')\n",
    "        ax2.set_xlabel('epoch')\n",
    "        ax2.legend(['train', 'test'], loc='upper left')\n",
    "        plt.show()\n",
    "        \n",
    "        "
   ]
  },
  {
   "cell_type": "code",
   "execution_count": 25,
   "metadata": {},
   "outputs": [
    {
     "name": "stdout",
     "output_type": "stream",
     "text": [
      "<keras.callbacks.History object at 0x000001E1E976F910>\n"
     ]
    },
    {
     "data": {
      "image/png": "[encoded data removed]",
      "text/plain": [
       "<Figure size 1080x360 with 2 Axes>"
      ]
     },
     "metadata": {
      "needs_background": "light"
     },
     "output_type": "display_data"
    }
   ],
   "source": [
    "obj= PlotMetrics()\n",
    "obj.draw(model.history)"
   ]
  },
  {
   "cell_type": "markdown",
   "metadata": {},
   "source": [
    "## CONV3D Model:"
   ]
  },
  {
   "cell_type": "code",
   "execution_count": 40,
   "metadata": {},
   "outputs": [],
   "source": [
    "class convolution3D():\n",
    "    def __init__(self):\n",
    "        return None\n",
    "    \n",
    "    def model2(self, batch_size):\n",
    "        model = Sequential()\n",
    "      \n",
    "        model.add(Conv3D(8, kernel_size=(3, 3, 3),activation='relu', padding=\"same\",input_shape=(10, 100, 100, 3)))\n",
    "        model.add(MaxPooling3D(pool_size=(2, 2, 2)))\n",
    "        model.add(BatchNormalization())\n",
    "        \n",
    "        model.add(Conv3D(16, kernel_size=(3, 3, 3),activation='relu', padding=\"same\",\n",
    "                         kernel_regularizer=regularizers.l2(0.01),\n",
    "                        bias_regularizer=regularizers.l2(0.01)))\n",
    "        model.add(MaxPooling3D(pool_size=(2, 2, 2)))\n",
    "        model.add(BatchNormalization())\n",
    "        \n",
    "        model.add(Conv3D(32, kernel_size=(3, 3, 3),activation='relu', padding=\"same\",\n",
    "                         kernel_regularizer=regularizers.l2(0.01),\n",
    "                        bias_regularizer=regularizers.l2(0.01)))\n",
    "        model.add(MaxPooling3D(pool_size=(2, 2, 2)))\n",
    "        model.add(BatchNormalization())\n",
    "        \n",
    "        \n",
    "        model.add(Conv3D(32, kernel_size=(3, 3, 3),activation='relu', padding=\"same\",\n",
    "                         kernel_regularizer=regularizers.l2(0.01),\n",
    "                        bias_regularizer=regularizers.l2(0.01)))\n",
    "        model.add(MaxPooling3D(pool_size=(2, 2, 1), data_format=\"channels_first\"))\n",
    "                               #strides=None, dim_ordering='th'))\n",
    "        model.add(BatchNormalization())\n",
    "        \n",
    "        model.add(Conv3D(64, kernel_size=(3, 3, 3),activation='relu', padding=\"same\",\n",
    "                         kernel_regularizer=regularizers.l2(0.01),\n",
    "                        bias_regularizer=regularizers.l2(0.01)))\n",
    "        \n",
    "        model.add(MaxPooling3D(pool_size=(2, 2, 1),data_format=\"channels_first\"))\n",
    "                               #strides=None, dim_ordering='th'))\n",
    "        model.add(BatchNormalization())\n",
    "        \n",
    "        model.add(Conv3D(128, kernel_size=(3, 3, 3),activation='relu', padding=\"same\",\n",
    "                         kernel_regularizer=regularizers.l2(0.01),\n",
    "                        bias_regularizer=regularizers.l2(0.01)))\n",
    "        model.add(MaxPooling3D(pool_size=(2, 2, 2),data_format=\"channels_first\"))\n",
    "                               #strides=None, dim_ordering='th'))\n",
    "        model.add(BatchNormalization())\n",
    "        \n",
    "       \n",
    "        model.add(Dropout(0.25))\n",
    "        model.add(Flatten())\n",
    "        model.add(Dense(256,activation='relu'))\n",
    "        model.add(Dropout(0.5))\n",
    "        model.add(Dense(128,activation='relu'))\n",
    "        model.add(Dropout(0.5))\n",
    "        model.add(Dense(64,activation='relu'))\n",
    "        model.add(Dropout(0.5))\n",
    "        model.add(Dense(5, activation='softmax'))\n",
    "        return model"
   ]
  },
  {
   "cell_type": "code",
   "execution_count": 42,
   "metadata": {},
   "outputs": [
    {
     "name": "stdout",
     "output_type": "stream",
     "text": [
      "Model: \"sequential_8\"\n",
      "_________________________________________________________________\n",
      " Layer (type)                Output Shape              Param #   \n",
      "=================================================================\n",
      " conv3d_30 (Conv3D)          (None, 10, 100, 100, 8)   656       \n",
      "                                                                 \n",
      " max_pooling3d_24 (MaxPoolin  (None, 5, 50, 50, 8)     0         \n",
      " g3D)                                                            \n",
      "                                                                 \n",
      " batch_normalization_27 (Bat  (None, 5, 50, 50, 8)     32        \n",
      " chNormalization)                                                \n",
      "                                                                 \n",
      " conv3d_31 (Conv3D)          (None, 5, 50, 50, 16)     3472      \n",
      "                                                                 \n",
      " max_pooling3d_25 (MaxPoolin  (None, 2, 25, 25, 16)    0         \n",
      " g3D)                                                            \n",
      "                                                                 \n",
      " batch_normalization_28 (Bat  (None, 2, 25, 25, 16)    64        \n",
      " chNormalization)                                                \n",
      "                                                                 \n",
      " conv3d_32 (Conv3D)          (None, 2, 25, 25, 32)     13856     \n",
      "                                                                 \n",
      " max_pooling3d_26 (MaxPoolin  (None, 1, 12, 12, 32)    0         \n",
      " g3D)                                                            \n",
      "                                                                 \n",
      " batch_normalization_29 (Bat  (None, 1, 12, 12, 32)    128       \n",
      " chNormalization)                                                \n",
      "                                                                 \n",
      " conv3d_33 (Conv3D)          (None, 1, 12, 12, 32)     27680     \n",
      "                                                                 \n",
      " max_pooling3d_27 (MaxPoolin  (None, 1, 6, 6, 32)      0         \n",
      " g3D)                                                            \n",
      "                                                                 \n",
      " batch_normalization_30 (Bat  (None, 1, 6, 6, 32)      128       \n",
      " chNormalization)                                                \n",
      "                                                                 \n",
      " conv3d_34 (Conv3D)          (None, 1, 6, 6, 64)       55360     \n",
      "                                                                 \n",
      " max_pooling3d_28 (MaxPoolin  (None, 1, 3, 3, 64)      0         \n",
      " g3D)                                                            \n",
      "                                                                 \n",
      " batch_normalization_31 (Bat  (None, 1, 3, 3, 64)      256       \n",
      " chNormalization)                                                \n",
      "                                                                 \n",
      " conv3d_35 (Conv3D)          (None, 1, 3, 3, 128)      221312    \n",
      "                                                                 \n",
      " max_pooling3d_29 (MaxPoolin  (None, 1, 1, 1, 64)      0         \n",
      " g3D)                                                            \n",
      "                                                                 \n",
      " batch_normalization_32 (Bat  (None, 1, 1, 1, 64)      256       \n",
      " chNormalization)                                                \n",
      "                                                                 \n",
      " dropout_8 (Dropout)         (None, 1, 1, 1, 64)       0         \n",
      "                                                                 \n",
      " flatten_2 (Flatten)         (None, 64)                0         \n",
      "                                                                 \n",
      " dense_6 (Dense)             (None, 256)               16640     \n",
      "                                                                 \n",
      " dropout_9 (Dropout)         (None, 256)               0         \n",
      "                                                                 \n",
      " dense_7 (Dense)             (None, 128)               32896     \n",
      "                                                                 \n",
      " dropout_10 (Dropout)        (None, 128)               0         \n",
      "                                                                 \n",
      " dense_8 (Dense)             (None, 64)                8256      \n",
      "                                                                 \n",
      " dropout_11 (Dropout)        (None, 64)                0         \n",
      "                                                                 \n",
      " dense_9 (Dense)             (None, 5)                 325       \n",
      "                                                                 \n",
      "=================================================================\n",
      "Total params: 381,317\n",
      "Trainable params: 380,885\n",
      "Non-trainable params: 432\n",
      "_________________________________________________________________\n",
      "None\n"
     ]
    }
   ],
   "source": [
    "obj = convolution3D()\n",
    "conv3d_model = obj.model2(batch_size)\n",
    "conv3d_optimiser = optimizers.Adam() #write your optimizer\n",
    "\n",
    "conv3d_model.compile(optimizer=conv3d_optimiser, loss='categorical_crossentropy', metrics=['categorical_accuracy'])\n",
    "print (conv3d_model.summary())"
   ]
  },
  {
   "cell_type": "code",
   "execution_count": 43,
   "metadata": {},
   "outputs": [
    {
     "name": "stdout",
     "output_type": "stream",
     "text": [
      "WARNING:tensorflow:`period` argument is deprecated. Please use `save_freq` to specify the frequency in number of batches seen.\n"
     ]
    }
   ],
   "source": [
    "model_name = 'model_init' + '_' + str(curr_dt_time).replace(' ','').replace(':','_') + '/'\n",
    "    \n",
    "if not os.path.exists(model_name):\n",
    "    os.mkdir(model_name)\n",
    "        \n",
    "filepath = model_name + 'model_3d-{epoch:05d}-{loss:.5f}-{categorical_accuracy:.5f}-{val_loss:.5f}-{val_categorical_accuracy:.5f}.h5'\n",
    "\n",
    "checkpoint = ModelCheckpoint(filepath, monitor='val_loss', verbose=1, save_best_only=False, save_weights_only=False, mode='auto', period=1)\n",
    "\n",
    "LR = DecayLR(base_lr=0.1) # write the REducelronplateau code here\n",
    "# callbacks_list = [checkpoint, LR]\n",
    "# roc_callback = RocCallback()\n",
    "callbacks_list = [reduceLR,checkpoint]"
   ]
  },
  {
   "cell_type": "code",
   "execution_count": 44,
   "metadata": {},
   "outputs": [
    {
     "name": "stderr",
     "output_type": "stream",
     "text": [
      "C:\\Users\\kanik\\AppData\\Local\\Temp\\ipykernel_28140\\1917064895.py:1: UserWarning: `Model.fit_generator` is deprecated and will be removed in a future version. Please use `Model.fit`, which supports generators.\n",
      "  conv3d_model_history = conv3d_model.fit_generator(train_generator,\n"
     ]
    },
    {
     "name": "stdout",
     "output_type": "stream",
     "text": [
      "Epoch 1/30\n",
      "23/23 [==============================] - ETA: 0s - loss: 3.3017 - categorical_accuracy: 0.2304\n",
      "Epoch 1: saving model to model_init_2023-03-0411_30_32.668325\\model_3d-00001-3.30169-0.23043-2.62987-0.20833.h5\n",
      "23/23 [==============================] - 43s 2s/step - loss: 3.3017 - categorical_accuracy: 0.2304 - val_loss: 2.6299 - val_categorical_accuracy: 0.2083 - lr: 0.0010\n",
      "Epoch 2/30\n",
      "23/23 [==============================] - ETA: 0s - loss: 2.5994 - categorical_accuracy: 0.2725\n",
      "Epoch 2: saving model to model_init_2023-03-0411_30_32.668325\\model_3d-00002-2.59937-0.27246-2.50973-0.19167.h5\n",
      "23/23 [==============================] - 41s 2s/step - loss: 2.5994 - categorical_accuracy: 0.2725 - val_loss: 2.5097 - val_categorical_accuracy: 0.1917 - lr: 0.0010\n",
      "Epoch 3/30\n",
      "23/23 [==============================] - ETA: 0s - loss: 2.3604 - categorical_accuracy: 0.3232\n",
      "Epoch 3: saving model to model_init_2023-03-0411_30_32.668325\\model_3d-00003-2.36036-0.32319-2.49363-0.26667.h5\n",
      "23/23 [==============================] - 42s 2s/step - loss: 2.3604 - categorical_accuracy: 0.3232 - val_loss: 2.4936 - val_categorical_accuracy: 0.2667 - lr: 0.0010\n",
      "Epoch 4/30\n",
      "23/23 [==============================] - ETA: 0s - loss: 2.3024 - categorical_accuracy: 0.3638\n",
      "Epoch 4: saving model to model_init_2023-03-0411_30_32.668325\\model_3d-00004-2.30241-0.36377-2.48413-0.15000.h5\n",
      "23/23 [==============================] - 43s 2s/step - loss: 2.3024 - categorical_accuracy: 0.3638 - val_loss: 2.4841 - val_categorical_accuracy: 0.1500 - lr: 0.0010\n",
      "Epoch 5/30\n",
      "23/23 [==============================] - ETA: 0s - loss: 2.1627 - categorical_accuracy: 0.3913\n",
      "Epoch 5: saving model to model_init_2023-03-0411_30_32.668325\\model_3d-00005-2.16269-0.39130-2.52486-0.19167.h5\n",
      "23/23 [==============================] - 43s 2s/step - loss: 2.1627 - categorical_accuracy: 0.3913 - val_loss: 2.5249 - val_categorical_accuracy: 0.1917 - lr: 0.0010\n",
      "Epoch 6/30\n",
      "23/23 [==============================] - ETA: 0s - loss: 2.0574 - categorical_accuracy: 0.4319\n",
      "Epoch 6: ReduceLROnPlateau reducing learning rate to 0.00010000000474974513.\n",
      "\n",
      "Epoch 6: saving model to model_init_2023-03-0411_30_32.668325\\model_3d-00006-2.05742-0.43188-2.53987-0.20833.h5\n",
      "23/23 [==============================] - 42s 2s/step - loss: 2.0574 - categorical_accuracy: 0.4319 - val_loss: 2.5399 - val_categorical_accuracy: 0.2083 - lr: 0.0010\n",
      "Epoch 7/30\n",
      "23/23 [==============================] - ETA: 0s - loss: 2.0073 - categorical_accuracy: 0.4594\n",
      "Epoch 7: saving model to model_init_2023-03-0411_30_32.668325\\model_3d-00007-2.00726-0.45942-2.59735-0.21667.h5\n",
      "23/23 [==============================] - 44s 2s/step - loss: 2.0073 - categorical_accuracy: 0.4594 - val_loss: 2.5974 - val_categorical_accuracy: 0.2167 - lr: 1.0000e-04\n",
      "Epoch 8/30\n",
      "23/23 [==============================] - ETA: 0s - loss: 1.9769 - categorical_accuracy: 0.4696\n",
      "Epoch 8: ReduceLROnPlateau reducing learning rate to 1.0000000474974514e-05.\n",
      "\n",
      "Epoch 8: saving model to model_init_2023-03-0411_30_32.668325\\model_3d-00008-1.97686-0.46957-2.49966-0.25833.h5\n",
      "23/23 [==============================] - 44s 2s/step - loss: 1.9769 - categorical_accuracy: 0.4696 - val_loss: 2.4997 - val_categorical_accuracy: 0.2583 - lr: 1.0000e-04\n",
      "Epoch 9/30\n",
      "23/23 [==============================] - ETA: 0s - loss: 1.9690 - categorical_accuracy: 0.4667\n",
      "Epoch 9: saving model to model_init_2023-03-0411_30_32.668325\\model_3d-00009-1.96896-0.46667-2.55702-0.20000.h5\n",
      "23/23 [==============================] - 43s 2s/step - loss: 1.9690 - categorical_accuracy: 0.4667 - val_loss: 2.5570 - val_categorical_accuracy: 0.2000 - lr: 1.0000e-05\n",
      "Epoch 10/30\n",
      "23/23 [==============================] - ETA: 0s - loss: 1.9602 - categorical_accuracy: 0.4928\n",
      "Epoch 10: ReduceLROnPlateau reducing learning rate to 1.0000000656873453e-06.\n",
      "\n",
      "Epoch 10: saving model to model_init_2023-03-0411_30_32.668325\\model_3d-00010-1.96017-0.49275-2.59688-0.20000.h5\n",
      "23/23 [==============================] - 42s 2s/step - loss: 1.9602 - categorical_accuracy: 0.4928 - val_loss: 2.5969 - val_categorical_accuracy: 0.2000 - lr: 1.0000e-05\n",
      "Epoch 11/30\n",
      "23/23 [==============================] - ETA: 0s - loss: 1.9062 - categorical_accuracy: 0.4797\n",
      "Epoch 11: saving model to model_init_2023-03-0411_30_32.668325\\model_3d-00011-1.90619-0.47971-2.61768-0.20833.h5\n",
      "23/23 [==============================] - 42s 2s/step - loss: 1.9062 - categorical_accuracy: 0.4797 - val_loss: 2.6177 - val_categorical_accuracy: 0.2083 - lr: 1.0000e-06\n",
      "Epoch 12/30\n",
      "23/23 [==============================] - ETA: 0s - loss: 1.9080 - categorical_accuracy: 0.4710\n",
      "Epoch 12: ReduceLROnPlateau reducing learning rate to 1.0000001111620805e-07.\n",
      "\n",
      "Epoch 12: saving model to model_init_2023-03-0411_30_32.668325\\model_3d-00012-1.90804-0.47101-2.59045-0.21667.h5\n",
      "23/23 [==============================] - 42s 2s/step - loss: 1.9080 - categorical_accuracy: 0.4710 - val_loss: 2.5904 - val_categorical_accuracy: 0.2167 - lr: 1.0000e-06\n",
      "Epoch 13/30\n",
      "23/23 [==============================] - ETA: 0s - loss: 1.9613 - categorical_accuracy: 0.4667\n",
      "Epoch 13: saving model to model_init_2023-03-0411_30_32.668325\\model_3d-00013-1.96128-0.46667-2.48250-0.18333.h5\n",
      "23/23 [==============================] - 42s 2s/step - loss: 1.9613 - categorical_accuracy: 0.4667 - val_loss: 2.4825 - val_categorical_accuracy: 0.1833 - lr: 1.0000e-07\n",
      "Epoch 14/30\n",
      "23/23 [==============================] - ETA: 0s - loss: 1.9756 - categorical_accuracy: 0.4870\n",
      "Epoch 14: saving model to model_init_2023-03-0411_30_32.668325\\model_3d-00014-1.97561-0.48696-2.52331-0.20833.h5\n",
      "23/23 [==============================] - 42s 2s/step - loss: 1.9756 - categorical_accuracy: 0.4870 - val_loss: 2.5233 - val_categorical_accuracy: 0.2083 - lr: 1.0000e-07\n",
      "Epoch 15/30\n",
      "23/23 [==============================] - ETA: 0s - loss: 1.9323 - categorical_accuracy: 0.5029\n",
      "Epoch 15: saving model to model_init_2023-03-0411_30_32.668325\\model_3d-00015-1.93233-0.50290-2.42599-0.25000.h5\n",
      "23/23 [==============================] - 43s 2s/step - loss: 1.9323 - categorical_accuracy: 0.5029 - val_loss: 2.4260 - val_categorical_accuracy: 0.2500 - lr: 1.0000e-07\n",
      "Epoch 16/30\n",
      "23/23 [==============================] - ETA: 0s - loss: 1.9658 - categorical_accuracy: 0.4797\n",
      "Epoch 16: saving model to model_init_2023-03-0411_30_32.668325\\model_3d-00016-1.96581-0.47971-2.38170-0.24167.h5\n",
      "23/23 [==============================] - 43s 2s/step - loss: 1.9658 - categorical_accuracy: 0.4797 - val_loss: 2.3817 - val_categorical_accuracy: 0.2417 - lr: 1.0000e-07\n",
      "Epoch 17/30\n",
      "23/23 [==============================] - ETA: 0s - loss: 1.9236 - categorical_accuracy: 0.5043\n",
      "Epoch 17: saving model to model_init_2023-03-0411_30_32.668325\\model_3d-00017-1.92359-0.50435-2.30251-0.30000.h5\n",
      "23/23 [==============================] - 43s 2s/step - loss: 1.9236 - categorical_accuracy: 0.5043 - val_loss: 2.3025 - val_categorical_accuracy: 0.3000 - lr: 1.0000e-07\n",
      "Epoch 18/30\n",
      "23/23 [==============================] - ETA: 0s - loss: 1.9825 - categorical_accuracy: 0.4942\n",
      "Epoch 18: saving model to model_init_2023-03-0411_30_32.668325\\model_3d-00018-1.98251-0.49420-2.21564-0.35000.h5\n",
      "23/23 [==============================] - 42s 2s/step - loss: 1.9825 - categorical_accuracy: 0.4942 - val_loss: 2.2156 - val_categorical_accuracy: 0.3500 - lr: 1.0000e-07\n",
      "Epoch 19/30\n",
      "23/23 [==============================] - ETA: 0s - loss: 1.9466 - categorical_accuracy: 0.4754\n",
      "Epoch 19: saving model to model_init_2023-03-0411_30_32.668325\\model_3d-00019-1.94660-0.47536-2.14163-0.39167.h5\n",
      "23/23 [==============================] - 42s 2s/step - loss: 1.9466 - categorical_accuracy: 0.4754 - val_loss: 2.1416 - val_categorical_accuracy: 0.3917 - lr: 1.0000e-07\n",
      "Epoch 20/30\n",
      "23/23 [==============================] - ETA: 0s - loss: 1.9394 - categorical_accuracy: 0.4957\n",
      "Epoch 20: saving model to model_init_2023-03-0411_30_32.668325\\model_3d-00020-1.93939-0.49565-2.05839-0.45833.h5\n",
      "23/23 [==============================] - 43s 2s/step - loss: 1.9394 - categorical_accuracy: 0.4957 - val_loss: 2.0584 - val_categorical_accuracy: 0.4583 - lr: 1.0000e-07\n",
      "Epoch 21/30\n",
      "23/23 [==============================] - ETA: 0s - loss: 1.9614 - categorical_accuracy: 0.4681\n",
      "Epoch 21: saving model to model_init_2023-03-0411_30_32.668325\\model_3d-00021-1.96140-0.46812-1.98258-0.43333.h5\n"
     ]
    },
    {
     "name": "stdout",
     "output_type": "stream",
     "text": [
      "23/23 [==============================] - 42s 2s/step - loss: 1.9614 - categorical_accuracy: 0.4681 - val_loss: 1.9826 - val_categorical_accuracy: 0.4333 - lr: 1.0000e-07\n",
      "Epoch 22/30\n",
      "23/23 [==============================] - ETA: 0s - loss: 1.9621 - categorical_accuracy: 0.5058\n",
      "Epoch 22: saving model to model_init_2023-03-0411_30_32.668325\\model_3d-00022-1.96206-0.50580-2.03618-0.40833.h5\n",
      "23/23 [==============================] - 41s 2s/step - loss: 1.9621 - categorical_accuracy: 0.5058 - val_loss: 2.0362 - val_categorical_accuracy: 0.4083 - lr: 1.0000e-07\n",
      "Epoch 23/30\n",
      "23/23 [==============================] - ETA: 0s - loss: 1.9434 - categorical_accuracy: 0.4826\n",
      "Epoch 23: saving model to model_init_2023-03-0411_30_32.668325\\model_3d-00023-1.94336-0.48261-1.97913-0.44167.h5\n",
      "23/23 [==============================] - 43s 2s/step - loss: 1.9434 - categorical_accuracy: 0.4826 - val_loss: 1.9791 - val_categorical_accuracy: 0.4417 - lr: 1.0000e-07\n",
      "Epoch 24/30\n",
      "23/23 [==============================] - ETA: 0s - loss: 1.9833 - categorical_accuracy: 0.4899\n",
      "Epoch 24: saving model to model_init_2023-03-0411_30_32.668325\\model_3d-00024-1.98326-0.48986-1.92182-0.53333.h5\n",
      "23/23 [==============================] - 42s 2s/step - loss: 1.9833 - categorical_accuracy: 0.4899 - val_loss: 1.9218 - val_categorical_accuracy: 0.5333 - lr: 1.0000e-07\n",
      "Epoch 25/30\n",
      "23/23 [==============================] - ETA: 0s - loss: 1.9324 - categorical_accuracy: 0.4609\n",
      "Epoch 25: saving model to model_init_2023-03-0411_30_32.668325\\model_3d-00025-1.93244-0.46087-1.90056-0.54167.h5\n",
      "23/23 [==============================] - 43s 2s/step - loss: 1.9324 - categorical_accuracy: 0.4609 - val_loss: 1.9006 - val_categorical_accuracy: 0.5417 - lr: 1.0000e-07\n",
      "Epoch 26/30\n",
      "23/23 [==============================] - ETA: 0s - loss: 1.9501 - categorical_accuracy: 0.4638\n",
      "Epoch 26: saving model to model_init_2023-03-0411_30_32.668325\\model_3d-00026-1.95007-0.46377-1.88550-0.55833.h5\n",
      "23/23 [==============================] - 42s 2s/step - loss: 1.9501 - categorical_accuracy: 0.4638 - val_loss: 1.8855 - val_categorical_accuracy: 0.5583 - lr: 1.0000e-07\n",
      "Epoch 27/30\n",
      "23/23 [==============================] - ETA: 0s - loss: 1.9489 - categorical_accuracy: 0.5145\n",
      "Epoch 27: saving model to model_init_2023-03-0411_30_32.668325\\model_3d-00027-1.94893-0.51449-1.85495-0.58333.h5\n",
      "23/23 [==============================] - 42s 2s/step - loss: 1.9489 - categorical_accuracy: 0.5145 - val_loss: 1.8550 - val_categorical_accuracy: 0.5833 - lr: 1.0000e-07\n",
      "Epoch 28/30\n",
      "23/23 [==============================] - ETA: 0s - loss: 1.9548 - categorical_accuracy: 0.4855\n",
      "Epoch 28: saving model to model_init_2023-03-0411_30_32.668325\\model_3d-00028-1.95481-0.48551-1.85868-0.56667.h5\n",
      "23/23 [==============================] - 43s 2s/step - loss: 1.9548 - categorical_accuracy: 0.4855 - val_loss: 1.8587 - val_categorical_accuracy: 0.5667 - lr: 1.0000e-07\n",
      "Epoch 29/30\n",
      "23/23 [==============================] - ETA: 0s - loss: 2.0185 - categorical_accuracy: 0.4420\n",
      "Epoch 29: ReduceLROnPlateau reducing learning rate to 1.000000082740371e-08.\n",
      "\n",
      "Epoch 29: saving model to model_init_2023-03-0411_30_32.668325\\model_3d-00029-2.01853-0.44203-1.90199-0.51667.h5\n",
      "23/23 [==============================] - 42s 2s/step - loss: 2.0185 - categorical_accuracy: 0.4420 - val_loss: 1.9020 - val_categorical_accuracy: 0.5167 - lr: 1.0000e-07\n",
      "Epoch 30/30\n",
      "23/23 [==============================] - ETA: 0s - loss: 1.9772 - categorical_accuracy: 0.4609\n",
      "Epoch 30: saving model to model_init_2023-03-0411_30_32.668325\\model_3d-00030-1.97719-0.46087-1.85818-0.55833.h5\n",
      "23/23 [==============================] - 42s 2s/step - loss: 1.9772 - categorical_accuracy: 0.4609 - val_loss: 1.8582 - val_categorical_accuracy: 0.5583 - lr: 1.0000e-08\n"
     ]
    }
   ],
   "source": [
    "conv3d_model_history = conv3d_model.fit_generator(train_generator,\n",
    "                                           steps_per_epoch=steps_per_epoch,\n",
    "                                           epochs=num_epochs,\n",
    "                                           verbose=1,\n",
    "                                           callbacks=callbacks_list,\n",
    "                                           validation_data=val_generator,\n",
    "                                           validation_steps=validation_steps,\n",
    "                                           class_weight=None,\n",
    "                                           workers=1,\n",
    "                                           initial_epoch=0)"
   ]
  },
  {
   "cell_type": "code",
   "execution_count": 45,
   "metadata": {},
   "outputs": [
    {
     "name": "stdout",
     "output_type": "stream",
     "text": [
      "{'loss': [3.3016929626464844, 2.599372386932373, 2.3603601455688477, 2.3024063110351562, 2.1626906394958496, 2.057417869567871, 2.007255792617798, 1.9768595695495605, 1.9689637422561646, 1.96016526222229, 1.9061943292617798, 1.9080368280410767, 1.9612828493118286, 1.9756096601486206, 1.9323266744613647, 1.9658050537109375, 1.9235855340957642, 1.9825050830841064, 1.9466007947921753, 1.9393892288208008, 1.9614026546478271, 1.9620583057403564, 1.9433597326278687, 1.9832627773284912, 1.932439923286438, 1.9500699043273926, 1.9489296674728394, 1.9548099040985107, 2.018533706665039, 1.9771863222122192], 'categorical_accuracy': [0.23043477535247803, 0.27246376872062683, 0.3231883943080902, 0.3637681305408478, 0.3913043439388275, 0.4318840503692627, 0.4594202935695648, 0.469565212726593, 0.46666666865348816, 0.49275362491607666, 0.4797101318836212, 0.47101449966430664, 0.46666666865348816, 0.48695650696754456, 0.5028985738754272, 0.4797101318836212, 0.5043478012084961, 0.4942029118537903, 0.4753623306751251, 0.4956521689891815, 0.4681159555912018, 0.5057970881462097, 0.48260870575904846, 0.4898550808429718, 0.46086955070495605, 0.4637681245803833, 0.5144927501678467, 0.4855072498321533, 0.4420289993286133, 0.46086955070495605], 'val_loss': [2.629873752593994, 2.509727954864502, 2.4936270713806152, 2.484130620956421, 2.524864673614502, 2.5398716926574707, 2.5973520278930664, 2.499659776687622, 2.5570194721221924, 2.596876382827759, 2.617680311203003, 2.5904479026794434, 2.4825024604797363, 2.523308753967285, 2.425994396209717, 2.381695508956909, 2.302508592605591, 2.2156424522399902, 2.1416256427764893, 2.0583913326263428, 1.982582926750183, 2.0361790657043457, 1.9791287183761597, 1.9218162298202515, 1.900558590888977, 1.8855016231536865, 1.8549519777297974, 1.8586751222610474, 1.9019854068756104, 1.8581782579421997], 'val_categorical_accuracy': [0.2083333283662796, 0.19166666269302368, 0.2666666805744171, 0.15000000596046448, 0.19166666269302368, 0.2083333283662796, 0.21666666865348816, 0.25833332538604736, 0.20000000298023224, 0.20000000298023224, 0.2083333283662796, 0.21666666865348816, 0.18333333730697632, 0.2083333283662796, 0.25, 0.24166665971279144, 0.30000001192092896, 0.3499999940395355, 0.3916666805744171, 0.4583333432674408, 0.4333333373069763, 0.40833333134651184, 0.4416666626930237, 0.5333333611488342, 0.5416666865348816, 0.5583333373069763, 0.5833333134651184, 0.5666666626930237, 0.5166666507720947, 0.5583333373069763], 'lr': [0.001, 0.001, 0.001, 0.001, 0.001, 0.001, 0.000100000005, 0.000100000005, 1.0000001e-05, 1.0000001e-05, 1.0000001e-06, 1.0000001e-06, 1.0000001e-07, 1.0000001e-07, 1.0000001e-07, 1.0000001e-07, 1.0000001e-07, 1.0000001e-07, 1.0000001e-07, 1.0000001e-07, 1.0000001e-07, 1.0000001e-07, 1.0000001e-07, 1.0000001e-07, 1.0000001e-07, 1.0000001e-07, 1.0000001e-07, 1.0000001e-07, 1.0000001e-07, 1.0000001e-08]}\n"
     ]
    },
    {
     "data": {
      "image/png": "[encoded data removed]",
      "text/plain": [
       "<Figure size 1080x360 with 2 Axes>"
      ]
     },
     "metadata": {
      "needs_background": "light"
     },
     "output_type": "display_data"
    }
   ],
   "source": [
    "print(conv3d_model_history.history)\n",
    "obj= PlotMetrics()\n",
    "obj.draw(conv3d_model_history)"
   ]
  },
  {
   "cell_type": "code",
   "execution_count": null,
   "metadata": {},
   "outputs": [],
   "source": []
  }
 ],
 "metadata": {
  "kernelspec": {
   "display_name": "Python 3 (ipykernel)",
   "language": "python",
   "name": "python3"
  },
  "language_info": {
   "codemirror_mode": {
    "name": "ipython",
    "version": 3
   },
   "file_extension": ".py",
   "mimetype": "text/x-python",
   "name": "python",
   "nbconvert_exporter": "python",
   "pygments_lexer": "ipython3",
   "version": "3.10.5"
  }
 },
 "nbformat": 4,
 "nbformat_minor": 2
}
