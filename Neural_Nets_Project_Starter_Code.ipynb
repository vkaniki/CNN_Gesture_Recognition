{
 "cells": [
  {
   "cell_type": "markdown",
   "metadata": {},
   "source": [
    "# Gesture Recognition\n",
    "In this group project, you are going to build a 3D Conv model that will be able to predict the 5 gestures correctly. Please import the following libraries to get started."
   ]
  },
  {
   "cell_type": "code",
   "execution_count": 47,
   "metadata": {},
   "outputs": [],
   "source": [
    "import numpy as np\n",
    "import os\n",
    "from skimage.io import imread\n",
    "from skimage.transform import resize\n",
    "import datetime\n",
    "import os"
   ]
  },
  {
   "cell_type": "markdown",
   "metadata": {},
   "source": [
    "We set the random seed so that the results don't vary drastically."
   ]
  },
  {
   "cell_type": "code",
   "execution_count": 48,
   "metadata": {},
   "outputs": [],
   "source": [
    "np.random.seed(30)\n",
    "import random as rn\n",
    "rn.seed(30)\n",
    "from keras import backend as K\n",
    "import tensorflow as tf\n",
    "tf.random.set_seed(30)\n",
    "# tf.set_random_seed(30)"
   ]
  },
  {
   "cell_type": "markdown",
   "metadata": {},
   "source": [
    "In this block, you read the folder names for training and validation. You also set the `batch_size` here. Note that you set the batch size in such a way that you are able to use the GPU in full capacity. You keep increasing the batch size until the machine throws an error."
   ]
  },
  {
   "cell_type": "code",
   "execution_count": 49,
   "metadata": {},
   "outputs": [],
   "source": [
    "train_doc = np.random.permutation(open('./train.csv').readlines())\n",
    "val_doc = np.random.permutation(open('./val.csv').readlines())\n",
    "batch_size = 30 #experiment with the batch size"
   ]
  },
  {
   "cell_type": "markdown",
   "metadata": {},
   "source": [
    "## Generator\n",
    "This is one of the most important part of the code. The overall structure of the generator has been given. In the generator, you are going to preprocess the images as you have images of 2 different dimensions as well as create a batch of video frames. You have to experiment with `img_idx`, `y`,`z` and normalization such that you get high accuracy."
   ]
  },
  {
   "cell_type": "code",
   "execution_count": 50,
   "metadata": {},
   "outputs": [],
   "source": [
    "image_x_shape = 100\n",
    "image_y_shape = 100"
   ]
  },
  {
   "cell_type": "code",
   "execution_count": 51,
   "metadata": {},
   "outputs": [],
   "source": [
    "def generator(source_path, folder_list, batch_size):\n",
    "    print( 'Source path = ', source_path, '; batch size =', batch_size)\n",
    "    img_idx = list(range(0, 30, 3)) #create a list of image numbers you want to use for a particular video\n",
    "    x, y, z = len(img_idx), image_x_shape, image_y_shape\n",
    "    while True:\n",
    "        t = np.random.permutation(folder_list)\n",
    "        total_folders = len(folder_list)\n",
    "        num_batches = total_folders // batch_size # calculate the number of batches\n",
    "        for batch in range(num_batches): # we iterate over the number of batches\n",
    "            batch_data = np.zeros((batch_size,x,y,z,3)) # x is the number of images you use for each video, \n",
    "                                        #(y,z) is the final size of the input images and 3 is the number of channels RGB\n",
    "            batch_labels = np.zeros((batch_size,5)) # batch_labels is the one hot representation of the output\n",
    "            for folder in range(batch_size): # iterate over the batch_size\n",
    "                imgs = os.listdir(source_path+'/'+ t[folder + (batch*batch_size)].split(';')[0]) # read all the images in the folder\n",
    "                for idx,item in enumerate(img_idx): #  Iterate iver the frames/images of a folder to read them in\n",
    "                    image = imread(source_path+'/'+ t[folder + (batch*batch_size)].strip().split(';')[0]+'/'+imgs[item]).astype(np.float32)\n",
    "                    resizedImage = resize(image, (y, z),anti_aliasing=True)\n",
    "                    #crop the images and resize them. Note that the images are of 2 different shape \n",
    "                    #and the conv3D will throw error if the inputs in a batch have different shapes\n",
    "                    \n",
    "                    batch_data[folder,idx,:,:,0] = resizedImage[:, :, 0] / 255 #normalise and feed in the image\n",
    "                    batch_data[folder,idx,:,:,1] = resizedImage[:, :, 1] / 255 #normalise and feed in the image\n",
    "                    batch_data[folder,idx,:,:,2] = resizedImage[:, :, 2] / 255 #normalise and feed in the image\n",
    "                    \n",
    "                batch_labels[folder, int(t[folder + (batch*batch_size)].strip().split(';')[2])] = 1\n",
    "            yield batch_data, batch_labels #you yield the batch_data and the batch_labels, remember what does yield do\n",
    "\n",
    "        \n",
    "        missing_count = total_folders - (num_batches * batch_size)\n",
    "        for folder in range(missing_count):\n",
    "            imgs = os.listdir(source_path+'/'+ t[folder + (batch*batch_size)].split(';')[0]) # read all the images in the folder\n",
    "            for idx,item in enumerate(img_idx): #  Iterate iver the frames/images of a folder to read them in\n",
    "                image = imread(source_path+'/'+ t[folder + (batch*batch_size)].strip().split(';')[0]+'/'+imgs[item]).astype(np.float32)\n",
    "                resizedImage = resize(image, (y, z),anti_aliasing=True)\n",
    "                #crop the images and resize them. Note that the images are of 2 different shape \n",
    "                #and the conv3D will throw error if the inputs in a batch have different shapes\n",
    "\n",
    "                batch_data[folder,idx,:,:,0] = resizedImage[:, :, 0] / 255 #normalise and feed in the image\n",
    "                batch_data[folder,idx,:,:,1] = resizedImage[:, :, 1] / 255 #normalise and feed in the image\n",
    "                batch_data[folder,idx,:,:,2] = resizedImage[:, :, 2] / 255 #normalise and feed in the image\n",
    "\n",
    "            batch_labels[folder, int(t[folder + (batch*batch_size)].strip().split(';')[2])] = 1\n",
    "        yield batch_data, batch_labels\n",
    "    # write the code for the remaining data points which are left after full batches\n"
   ]
  },
  {
   "cell_type": "markdown",
   "metadata": {},
   "source": [
    "Note here that a video is represented above in the generator as (number of images, height, width, number of channels). Take this into consideration while creating the model architecture."
   ]
  },
  {
   "cell_type": "code",
   "execution_count": 52,
   "metadata": {},
   "outputs": [
    {
     "name": "stdout",
     "output_type": "stream",
     "text": [
      "# training sequences = 663\n",
      "# validation sequences = 100\n",
      "# epochs = 30\n"
     ]
    }
   ],
   "source": [
    "curr_dt_time = datetime.datetime.now()\n",
    "train_path = './train'\n",
    "val_path = './val'\n",
    "num_train_sequences = len(train_doc)\n",
    "print('# training sequences =', num_train_sequences)\n",
    "num_val_sequences = len(val_doc)\n",
    "print('# validation sequences =', num_val_sequences)\n",
    "num_epochs = 30 # choose the number of epochs\n",
    "print ('# epochs =', num_epochs)"
   ]
  },
  {
   "cell_type": "markdown",
   "metadata": {},
   "source": [
    "## Model\n",
    "Here you make the model using different functionalities that Keras provides. Remember to use `Conv3D` and `MaxPooling3D` and not `Conv2D` and `Maxpooling2D` for a 3D convolution model. You would want to use `TimeDistributed` while building a Conv2D + RNN model. Also remember that the last layer is the softmax. Design the network in such a way that the model is able to give good accuracy on the least number of parameters so that it can fit in the memory of the webcam."
   ]
  },
  {
   "cell_type": "code",
   "execution_count": 53,
   "metadata": {},
   "outputs": [],
   "source": [
    "from keras.models import Sequential, Model\n",
    "from sklearn.metrics import roc_auc_score\n",
    "from keras.layers import Dense, GRU, Flatten, TimeDistributed, Flatten, BatchNormalization, Activation, Conv2D, Dropout\n",
    "from keras.layers.convolutional import Conv3D, MaxPooling3D, MaxPooling2D\n",
    "from keras.callbacks import ModelCheckpoint, ReduceLROnPlateau, EarlyStopping\n",
    "from keras import optimizers, regularizers\n",
    "from keras.regularizers import l2\n",
    "import keras\n",
    "\n",
    "#write your model here"
   ]
  },
  {
   "cell_type": "code",
   "execution_count": 54,
   "metadata": {},
   "outputs": [],
   "source": [
    "reduceLR = ReduceLROnPlateau(monitor = \"val_loss\", factor = 0.1, patience = 2,\n",
    "                             verbose = 1, mode = \"auto\", cooldown = 0)"
   ]
  },
  {
   "cell_type": "code",
   "execution_count": 55,
   "metadata": {},
   "outputs": [],
   "source": [
    "import keras\n",
    "class DecayLR(keras.callbacks.Callback):\n",
    "    \n",
    "    def __init__(self, base_lr=0.01, decay_epoch=1):\n",
    "        super(DecayLR, self).__init__()\n",
    "        self.base_lr = base_lr\n",
    "        self.lr_history = []\n",
    "        self.decay_epoch = decay_epoch\n",
    "        \n",
    "    def on_train_begin(self, logs={}):\n",
    "        K.set_value(self.model.optimizer.lr, self.base_lr)\n",
    "        \n",
    "    def on_epoch_end(self, epoch, logs={}):\n",
    "        new_lr = self.base_lr * (0.5 ** (epoch // self.decay_epoch))\n",
    "        self.lr_history.append(K.get_value(self.model.optimizer.lr))\n",
    "        K.set_value(self.model.optimizer.lr, new_lr)"
   ]
  },
  {
   "cell_type": "code",
   "execution_count": 56,
   "metadata": {},
   "outputs": [],
   "source": [
    "class Convolution2DWithGRU():\n",
    "    def __init__(self):\n",
    "        return None\n",
    "    \n",
    "    def model(self, batch_size):\n",
    "        cnn_model = Sequential()\n",
    "        cnn_model.add(TimeDistributed(Conv2D(32, (1, 1), padding='same'), input_shape=(10, image_x_shape, image_y_shape, 3)))\n",
    "        cnn_model.add(TimeDistributed(Activation('relu')))\n",
    "        cnn_model.add(TimeDistributed(MaxPooling2D((3, 3), strides = (2,2))))\n",
    "        cnn_model.add(TimeDistributed(BatchNormalization()))\n",
    "        \n",
    "        cnn_model.add(TimeDistributed(Conv2D(32, (3, 3), padding='same')))\n",
    "        cnn_model.add(TimeDistributed(Activation('relu')))\n",
    "        cnn_model.add(TimeDistributed(MaxPooling2D((3, 3), strides = (2,2))))\n",
    "        cnn_model.add(TimeDistributed(BatchNormalization()))\n",
    "        \n",
    "        cnn_model.add(TimeDistributed(Conv2D(64, (3, 3), padding='same', kernel_regularizer=l2(0.01), bias_regularizer=l2(0.01))))\n",
    "        cnn_model.add(TimeDistributed(Activation('relu')))\n",
    "        cnn_model.add(TimeDistributed(BatchNormalization()))\n",
    "        cnn_model.add(Dropout(0.25))\n",
    "        \n",
    "        cnn_model.add(TimeDistributed(Conv2D(64, (3, 3), padding='same', kernel_regularizer=l2(0.01), bias_regularizer=l2(0.01))))\n",
    "        cnn_model.add(TimeDistributed(Activation('relu')))\n",
    "        \n",
    "        \n",
    "        cnn_model.add(TimeDistributed(MaxPooling2D((3, 3))))\n",
    "        \n",
    "        cnn_model.add(TimeDistributed(Conv2D(64, (3, 3), padding='same')))\n",
    "        cnn_model.add(TimeDistributed(Activation('relu')))\n",
    "        \n",
    "        cnn_model.add(Dropout(0.25))\n",
    "        \n",
    "        cnn_model.add(TimeDistributed(Conv2D(128, (3, 3), padding='same', kernel_regularizer=l2(0.01), bias_regularizer=l2(0.01))))\n",
    "        cnn_model.add(TimeDistributed(Activation('relu')))\n",
    "\n",
    "        cnn_model.add(Dropout(0.50))\n",
    "        \n",
    "        cnn_model.add(TimeDistributed(Conv2D(256, (5, 5), padding='same', kernel_regularizer=l2(0.01), bias_regularizer=l2(0.01))))\n",
    "        cnn_model.add(TimeDistributed(Activation('relu')))\n",
    "\n",
    "        \n",
    "        cnn_model.add(TimeDistributed(Flatten()))\n",
    "#         cnn_model.add(Dense(20))\n",
    "        \n",
    "        cnn_model.add(Dense(16))\n",
    "        cnn_model.add(Dropout(.50))\n",
    "        cnn_model.add(GRU(64, return_sequences=False))\n",
    "#         cnn_model.add(Dense(32))\n",
    "        cnn_model.add(Dense(5, activation='softmax'))\n",
    "        return cnn_model"
   ]
  },
  {
   "cell_type": "markdown",
   "metadata": {},
   "source": [
    "Now that you have written the model, the next step is to `compile` the model. When you print the `summary` of the model, you'll see the total number of parameters you have to train."
   ]
  },
  {
   "cell_type": "code",
   "execution_count": 57,
   "metadata": {
    "scrolled": true
   },
   "outputs": [
    {
     "name": "stdout",
     "output_type": "stream",
     "text": [
      "Model: \"sequential_4\"\n",
      "_________________________________________________________________\n",
      " Layer (type)                Output Shape              Param #   \n",
      "=================================================================\n",
      " time_distributed_42 (TimeDi  (None, 10, 100, 100, 32)  128      \n",
      " stributed)                                                      \n",
      "                                                                 \n",
      " time_distributed_43 (TimeDi  (None, 10, 100, 100, 32)  0        \n",
      " stributed)                                                      \n",
      "                                                                 \n",
      " time_distributed_44 (TimeDi  (None, 10, 49, 49, 32)   0         \n",
      " stributed)                                                      \n",
      "                                                                 \n",
      " time_distributed_45 (TimeDi  (None, 10, 49, 49, 32)   128       \n",
      " stributed)                                                      \n",
      "                                                                 \n",
      " time_distributed_46 (TimeDi  (None, 10, 49, 49, 32)   9248      \n",
      " stributed)                                                      \n",
      "                                                                 \n",
      " time_distributed_47 (TimeDi  (None, 10, 49, 49, 32)   0         \n",
      " stributed)                                                      \n",
      "                                                                 \n",
      " time_distributed_48 (TimeDi  (None, 10, 24, 24, 32)   0         \n",
      " stributed)                                                      \n",
      "                                                                 \n",
      " time_distributed_49 (TimeDi  (None, 10, 24, 24, 32)   128       \n",
      " stributed)                                                      \n",
      "                                                                 \n",
      " time_distributed_50 (TimeDi  (None, 10, 24, 24, 64)   18496     \n",
      " stributed)                                                      \n",
      "                                                                 \n",
      " time_distributed_51 (TimeDi  (None, 10, 24, 24, 64)   0         \n",
      " stributed)                                                      \n",
      "                                                                 \n",
      " time_distributed_52 (TimeDi  (None, 10, 24, 24, 64)   256       \n",
      " stributed)                                                      \n",
      "                                                                 \n",
      " dropout_16 (Dropout)        (None, 10, 24, 24, 64)    0         \n",
      "                                                                 \n",
      " time_distributed_53 (TimeDi  (None, 10, 24, 24, 64)   36928     \n",
      " stributed)                                                      \n",
      "                                                                 \n",
      " time_distributed_54 (TimeDi  (None, 10, 24, 24, 64)   0         \n",
      " stributed)                                                      \n",
      "                                                                 \n",
      " time_distributed_55 (TimeDi  (None, 10, 8, 8, 64)     0         \n",
      " stributed)                                                      \n",
      "                                                                 \n",
      " time_distributed_56 (TimeDi  (None, 10, 8, 8, 64)     36928     \n",
      " stributed)                                                      \n",
      "                                                                 \n",
      " time_distributed_57 (TimeDi  (None, 10, 8, 8, 64)     0         \n",
      " stributed)                                                      \n",
      "                                                                 \n",
      " dropout_17 (Dropout)        (None, 10, 8, 8, 64)      0         \n",
      "                                                                 \n",
      " time_distributed_58 (TimeDi  (None, 10, 8, 8, 128)    73856     \n",
      " stributed)                                                      \n",
      "                                                                 \n",
      " time_distributed_59 (TimeDi  (None, 10, 8, 8, 128)    0         \n",
      " stributed)                                                      \n",
      "                                                                 \n",
      " dropout_18 (Dropout)        (None, 10, 8, 8, 128)     0         \n",
      "                                                                 \n",
      " time_distributed_60 (TimeDi  (None, 10, 8, 8, 256)    819456    \n",
      " stributed)                                                      \n",
      "                                                                 \n",
      " time_distributed_61 (TimeDi  (None, 10, 8, 8, 256)    0         \n",
      " stributed)                                                      \n",
      "                                                                 \n",
      " time_distributed_62 (TimeDi  (None, 10, 16384)        0         \n",
      " stributed)                                                      \n",
      "                                                                 \n",
      " dense_12 (Dense)            (None, 10, 16)            262160    \n",
      "                                                                 \n",
      " dropout_19 (Dropout)        (None, 10, 16)            0         \n",
      "                                                                 \n",
      " gru_2 (GRU)                 (None, 64)                15744     \n",
      "                                                                 \n",
      " dense_13 (Dense)            (None, 5)                 325       \n",
      "                                                                 \n",
      "=================================================================\n",
      "Total params: 1,273,781\n",
      "Trainable params: 1,273,525\n",
      "Non-trainable params: 256\n",
      "_________________________________________________________________\n",
      "None\n"
     ]
    }
   ],
   "source": [
    "obj = Convolution2DWithGRU()\n",
    "model = obj.model(batch_size)\n",
    "optimiser = optimizers.Adam() #write your optimizer\n",
    "\n",
    "model.compile(optimizer=optimiser, loss='categorical_crossentropy', metrics=['categorical_accuracy'])\n",
    "print (model.summary())"
   ]
  },
  {
   "cell_type": "markdown",
   "metadata": {},
   "source": [
    "Let us create the `train_generator` and the `val_generator` which will be used in `.fit_generator`."
   ]
  },
  {
   "cell_type": "code",
   "execution_count": 58,
   "metadata": {},
   "outputs": [],
   "source": [
    "train_generator = generator(train_path, train_doc, batch_size)\n",
    "val_generator = generator(val_path, val_doc, batch_size)"
   ]
  },
  {
   "cell_type": "code",
   "execution_count": 59,
   "metadata": {},
   "outputs": [
    {
     "name": "stdout",
     "output_type": "stream",
     "text": [
      "WARNING:tensorflow:`period` argument is deprecated. Please use `save_freq` to specify the frequency in number of batches seen.\n"
     ]
    }
   ],
   "source": [
    "model_name = 'model_init' + '_' + str(curr_dt_time).replace(' ','').replace(':','_') + '/'\n",
    "    \n",
    "if not os.path.exists(model_name):\n",
    "    os.mkdir(model_name)\n",
    "        \n",
    "filepath = model_name + 'model-{epoch:05d}-{loss:.5f}-{categorical_accuracy:.5f}-{val_loss:.5f}-{val_categorical_accuracy:.5f}.h5'\n",
    "\n",
    "checkpoint = ModelCheckpoint(filepath, monitor='val_loss', verbose=1, save_best_only=False, save_weights_only=False, mode='auto', period=1)\n",
    "\n",
    "LR = DecayLR(base_lr=0.1) # write the REducelronplateau code here\n",
    "# callbacks_list = [checkpoint, LR]\n",
    "# roc_callback = RocCallback()\n",
    "callbacks_list = [checkpoint,reduceLR]"
   ]
  },
  {
   "cell_type": "markdown",
   "metadata": {},
   "source": [
    "The `steps_per_epoch` and `validation_steps` are used by `fit_generator` to decide the number of next() calls it need to make."
   ]
  },
  {
   "cell_type": "code",
   "execution_count": 60,
   "metadata": {},
   "outputs": [],
   "source": [
    "if (num_train_sequences%batch_size) == 0:\n",
    "    steps_per_epoch = int(num_train_sequences/batch_size)\n",
    "else:\n",
    "    steps_per_epoch = (num_train_sequences//batch_size) + 1\n",
    "\n",
    "if (num_val_sequences%batch_size) == 0:\n",
    "    validation_steps = int(num_val_sequences/batch_size)\n",
    "else:\n",
    "    validation_steps = (num_val_sequences//batch_size) + 1"
   ]
  },
  {
   "cell_type": "markdown",
   "metadata": {},
   "source": [
    "Let us now fit the model. This will start training the model and with the help of the checkpoints, you'll be able to save the model at the end of each epoch."
   ]
  },
  {
   "cell_type": "code",
   "execution_count": 61,
   "metadata": {},
   "outputs": [
    {
     "name": "stdout",
     "output_type": "stream",
     "text": [
      "Source path =  ./train ; batch size = 30\n",
      "Epoch 1/30\n",
      "23/23 [==============================] - ETA: 0s - loss: 4.7230 - categorical_accuracy: 0.1580Source path =  ./val ; batch size = 30\n",
      "\n",
      "Epoch 1: saving model to model_init_2023-03-0521_12_26.711293\\model-00001-4.72300-0.15797-3.61702-0.20000.h5\n",
      "23/23 [==============================] - 114s 5s/step - loss: 4.7230 - categorical_accuracy: 0.1580 - val_loss: 3.6170 - val_categorical_accuracy: 0.2000 - lr: 0.0010\n",
      "Epoch 2/30\n",
      "23/23 [==============================] - ETA: 0s - loss: 3.0470 - categorical_accuracy: 0.2087\n",
      "Epoch 2: saving model to model_init_2023-03-0521_12_26.711293\\model-00002-3.04697-0.20870-2.55794-0.19167.h5\n",
      "23/23 [==============================] - 105s 5s/step - loss: 3.0470 - categorical_accuracy: 0.2087 - val_loss: 2.5579 - val_categorical_accuracy: 0.1917 - lr: 0.0010\n",
      "Epoch 3/30\n",
      "23/23 [==============================] - ETA: 0s - loss: 2.2195 - categorical_accuracy: 0.2957\n",
      "Epoch 3: saving model to model_init_2023-03-0521_12_26.711293\\model-00003-2.21954-0.29565-2.11684-0.20833.h5\n",
      "23/23 [==============================] - 105s 5s/step - loss: 2.2195 - categorical_accuracy: 0.2957 - val_loss: 2.1168 - val_categorical_accuracy: 0.2083 - lr: 0.0010\n",
      "Epoch 4/30\n",
      "23/23 [==============================] - ETA: 0s - loss: 1.7914 - categorical_accuracy: 0.4043\n",
      "Epoch 4: saving model to model_init_2023-03-0521_12_26.711293\\model-00004-1.79136-0.40435-1.94509-0.27500.h5\n",
      "23/23 [==============================] - 97s 4s/step - loss: 1.7914 - categorical_accuracy: 0.4043 - val_loss: 1.9451 - val_categorical_accuracy: 0.2750 - lr: 0.0010\n",
      "Epoch 5/30\n",
      "23/23 [==============================] - ETA: 0s - loss: 1.4865 - categorical_accuracy: 0.4841\n",
      "Epoch 5: saving model to model_init_2023-03-0521_12_26.711293\\model-00005-1.48655-0.48406-1.81859-0.22500.h5\n",
      "23/23 [==============================] - 106s 5s/step - loss: 1.4865 - categorical_accuracy: 0.4841 - val_loss: 1.8186 - val_categorical_accuracy: 0.2250 - lr: 0.0010\n",
      "Epoch 6/30\n",
      "23/23 [==============================] - ETA: 0s - loss: 1.2628 - categorical_accuracy: 0.5870\n",
      "Epoch 6: saving model to model_init_2023-03-0521_12_26.711293\\model-00006-1.26283-0.58696-1.81220-0.20000.h5\n",
      "23/23 [==============================] - 109s 5s/step - loss: 1.2628 - categorical_accuracy: 0.5870 - val_loss: 1.8122 - val_categorical_accuracy: 0.2000 - lr: 0.0010\n",
      "Epoch 7/30\n",
      "23/23 [==============================] - ETA: 0s - loss: 1.0442 - categorical_accuracy: 0.6725\n",
      "Epoch 7: saving model to model_init_2023-03-0521_12_26.711293\\model-00007-1.04424-0.67246-1.75603-0.25833.h5\n",
      "23/23 [==============================] - 107s 5s/step - loss: 1.0442 - categorical_accuracy: 0.6725 - val_loss: 1.7560 - val_categorical_accuracy: 0.2583 - lr: 0.0010\n",
      "Epoch 8/30\n",
      "23/23 [==============================] - ETA: 0s - loss: 0.9114 - categorical_accuracy: 0.7420\n",
      "Epoch 8: saving model to model_init_2023-03-0521_12_26.711293\\model-00008-0.91142-0.74203-2.92759-0.17500.h5\n",
      "23/23 [==============================] - 106s 5s/step - loss: 0.9114 - categorical_accuracy: 0.7420 - val_loss: 2.9276 - val_categorical_accuracy: 0.1750 - lr: 0.0010\n",
      "Epoch 9/30\n",
      "23/23 [==============================] - ETA: 0s - loss: 0.8229 - categorical_accuracy: 0.7638\n",
      "Epoch 9: saving model to model_init_2023-03-0521_12_26.711293\\model-00009-0.82295-0.76377-1.68260-0.36667.h5\n",
      "23/23 [==============================] - 100s 4s/step - loss: 0.8229 - categorical_accuracy: 0.7638 - val_loss: 1.6826 - val_categorical_accuracy: 0.3667 - lr: 0.0010\n",
      "Epoch 10/30\n",
      "23/23 [==============================] - ETA: 0s - loss: 0.7892 - categorical_accuracy: 0.7768\n",
      "Epoch 10: saving model to model_init_2023-03-0521_12_26.711293\\model-00010-0.78915-0.77681-1.96817-0.27500.h5\n",
      "23/23 [==============================] - 110s 5s/step - loss: 0.7892 - categorical_accuracy: 0.7768 - val_loss: 1.9682 - val_categorical_accuracy: 0.2750 - lr: 0.0010\n",
      "Epoch 11/30\n",
      "23/23 [==============================] - ETA: 0s - loss: 0.7140 - categorical_accuracy: 0.7971\n",
      "Epoch 11: saving model to model_init_2023-03-0521_12_26.711293\\model-00011-0.71404-0.79710-1.93179-0.17500.h5\n",
      "\n",
      "Epoch 11: ReduceLROnPlateau reducing learning rate to 0.00010000000474974513.\n",
      "23/23 [==============================] - 101s 4s/step - loss: 0.7140 - categorical_accuracy: 0.7971 - val_loss: 1.9318 - val_categorical_accuracy: 0.1750 - lr: 0.0010\n",
      "Epoch 12/30\n",
      "23/23 [==============================] - ETA: 0s - loss: 0.5568 - categorical_accuracy: 0.8551\n",
      "Epoch 12: saving model to model_init_2023-03-0521_12_26.711293\\model-00012-0.55681-0.85507-1.83971-0.22500.h5\n",
      "23/23 [==============================] - 107s 5s/step - loss: 0.5568 - categorical_accuracy: 0.8551 - val_loss: 1.8397 - val_categorical_accuracy: 0.2250 - lr: 1.0000e-04\n",
      "Epoch 13/30\n",
      "23/23 [==============================] - ETA: 0s - loss: 0.5329 - categorical_accuracy: 0.8667\n",
      "Epoch 13: saving model to model_init_2023-03-0521_12_26.711293\\model-00013-0.53294-0.86667-1.76811-0.24167.h5\n",
      "\n",
      "Epoch 13: ReduceLROnPlateau reducing learning rate to 1.0000000474974514e-05.\n",
      "23/23 [==============================] - 106s 5s/step - loss: 0.5329 - categorical_accuracy: 0.8667 - val_loss: 1.7681 - val_categorical_accuracy: 0.2417 - lr: 1.0000e-04\n",
      "Epoch 14/30\n",
      "23/23 [==============================] - ETA: 0s - loss: 0.4929 - categorical_accuracy: 0.8812\n",
      "Epoch 14: saving model to model_init_2023-03-0521_12_26.711293\\model-00014-0.49288-0.88116-1.68052-0.25000.h5\n",
      "23/23 [==============================] - 109s 5s/step - loss: 0.4929 - categorical_accuracy: 0.8812 - val_loss: 1.6805 - val_categorical_accuracy: 0.2500 - lr: 1.0000e-05\n",
      "Epoch 15/30\n",
      "23/23 [==============================] - ETA: 0s - loss: 0.4642 - categorical_accuracy: 0.9000\n",
      "Epoch 15: saving model to model_init_2023-03-0521_12_26.711293\\model-00015-0.46422-0.90000-1.69437-0.22500.h5\n",
      "23/23 [==============================] - 110s 5s/step - loss: 0.4642 - categorical_accuracy: 0.9000 - val_loss: 1.6944 - val_categorical_accuracy: 0.2250 - lr: 1.0000e-05\n",
      "Epoch 16/30\n",
      "23/23 [==============================] - ETA: 0s - loss: 0.4832 - categorical_accuracy: 0.8812\n",
      "Epoch 16: saving model to model_init_2023-03-0521_12_26.711293\\model-00016-0.48317-0.88116-1.49185-0.40000.h5\n",
      "23/23 [==============================] - 102s 5s/step - loss: 0.4832 - categorical_accuracy: 0.8812 - val_loss: 1.4918 - val_categorical_accuracy: 0.4000 - lr: 1.0000e-05\n",
      "Epoch 17/30\n",
      "23/23 [==============================] - ETA: 0s - loss: 0.4854 - categorical_accuracy: 0.8913\n",
      "Epoch 17: saving model to model_init_2023-03-0521_12_26.711293\\model-00017-0.48541-0.89130-1.41139-0.43333.h5\n",
      "23/23 [==============================] - 109s 5s/step - loss: 0.4854 - categorical_accuracy: 0.8913 - val_loss: 1.4114 - val_categorical_accuracy: 0.4333 - lr: 1.0000e-05\n",
      "Epoch 18/30\n",
      "23/23 [==============================] - ETA: 0s - loss: 0.4708 - categorical_accuracy: 0.8957\n",
      "Epoch 18: saving model to model_init_2023-03-0521_12_26.711293\\model-00018-0.47081-0.89565-1.30602-0.50833.h5\n",
      "23/23 [==============================] - 107s 5s/step - loss: 0.4708 - categorical_accuracy: 0.8957 - val_loss: 1.3060 - val_categorical_accuracy: 0.5083 - lr: 1.0000e-05\n",
      "Epoch 19/30\n",
      "23/23 [==============================] - ETA: 0s - loss: 0.4618 - categorical_accuracy: 0.9014\n",
      "Epoch 19: saving model to model_init_2023-03-0521_12_26.711293\\model-00019-0.46179-0.90145-1.29503-0.61667.h5\n",
      "23/23 [==============================] - 109s 5s/step - loss: 0.4618 - categorical_accuracy: 0.9014 - val_loss: 1.2950 - val_categorical_accuracy: 0.6167 - lr: 1.0000e-05\n",
      "Epoch 20/30\n",
      "23/23 [==============================] - ETA: 0s - loss: 0.4511 - categorical_accuracy: 0.9000\n",
      "Epoch 20: saving model to model_init_2023-03-0521_12_26.711293\\model-00020-0.45114-0.90000-1.14620-0.60833.h5\n",
      "23/23 [==============================] - 105s 5s/step - loss: 0.4511 - categorical_accuracy: 0.9000 - val_loss: 1.1462 - val_categorical_accuracy: 0.6083 - lr: 1.0000e-05\n",
      "Epoch 21/30\n",
      "23/23 [==============================] - ETA: 0s - loss: 0.4557 - categorical_accuracy: 0.8957\n",
      "Epoch 21: saving model to model_init_2023-03-0521_12_26.711293\\model-00021-0.45567-0.89565-1.09800-0.63333.h5\n",
      "23/23 [==============================] - 112s 5s/step - loss: 0.4557 - categorical_accuracy: 0.8957 - val_loss: 1.0980 - val_categorical_accuracy: 0.6333 - lr: 1.0000e-05\n"
     ]
    },
    {
     "name": "stdout",
     "output_type": "stream",
     "text": [
      "Epoch 22/30\n",
      "23/23 [==============================] - ETA: 0s - loss: 0.4665 - categorical_accuracy: 0.8942\n",
      "Epoch 22: saving model to model_init_2023-03-0521_12_26.711293\\model-00022-0.46650-0.89420-0.90740-0.69167.h5\n",
      "23/23 [==============================] - 108s 5s/step - loss: 0.4665 - categorical_accuracy: 0.8942 - val_loss: 0.9074 - val_categorical_accuracy: 0.6917 - lr: 1.0000e-05\n",
      "Epoch 23/30\n",
      "23/23 [==============================] - ETA: 0s - loss: 0.4710 - categorical_accuracy: 0.8841\n",
      "Epoch 23: saving model to model_init_2023-03-0521_12_26.711293\\model-00023-0.47100-0.88406-0.79857-0.76667.h5\n",
      "23/23 [==============================] - 112s 5s/step - loss: 0.4710 - categorical_accuracy: 0.8841 - val_loss: 0.7986 - val_categorical_accuracy: 0.7667 - lr: 1.0000e-05\n",
      "Epoch 24/30\n",
      "23/23 [==============================] - ETA: 0s - loss: 0.4518 - categorical_accuracy: 0.9101\n",
      "Epoch 24: saving model to model_init_2023-03-0521_12_26.711293\\model-00024-0.45179-0.91014-0.80818-0.73333.h5\n",
      "23/23 [==============================] - 107s 5s/step - loss: 0.4518 - categorical_accuracy: 0.9101 - val_loss: 0.8082 - val_categorical_accuracy: 0.7333 - lr: 1.0000e-05\n",
      "Epoch 25/30\n",
      "23/23 [==============================] - ETA: 0s - loss: 0.4597 - categorical_accuracy: 0.8971\n",
      "Epoch 25: saving model to model_init_2023-03-0521_12_26.711293\\model-00025-0.45974-0.89710-0.84401-0.77500.h5\n",
      "\n",
      "Epoch 25: ReduceLROnPlateau reducing learning rate to 1.0000000656873453e-06.\n",
      "23/23 [==============================] - 98s 4s/step - loss: 0.4597 - categorical_accuracy: 0.8971 - val_loss: 0.8440 - val_categorical_accuracy: 0.7750 - lr: 1.0000e-05\n",
      "Epoch 26/30\n",
      "23/23 [==============================] - ETA: 0s - loss: 0.4673 - categorical_accuracy: 0.8928\n",
      "Epoch 26: saving model to model_init_2023-03-0521_12_26.711293\\model-00026-0.46729-0.89275-0.96956-0.73333.h5\n",
      "23/23 [==============================] - 111s 5s/step - loss: 0.4673 - categorical_accuracy: 0.8928 - val_loss: 0.9696 - val_categorical_accuracy: 0.7333 - lr: 1.0000e-06\n",
      "Epoch 27/30\n",
      "23/23 [==============================] - ETA: 0s - loss: 0.4552 - categorical_accuracy: 0.9087\n",
      "Epoch 27: saving model to model_init_2023-03-0521_12_26.711293\\model-00027-0.45517-0.90870-0.63019-0.81667.h5\n",
      "23/23 [==============================] - 105s 5s/step - loss: 0.4552 - categorical_accuracy: 0.9087 - val_loss: 0.6302 - val_categorical_accuracy: 0.8167 - lr: 1.0000e-06\n",
      "Epoch 28/30\n",
      "23/23 [==============================] - ETA: 0s - loss: 0.4509 - categorical_accuracy: 0.9014\n",
      "Epoch 28: saving model to model_init_2023-03-0521_12_26.711293\\model-00028-0.45095-0.90145-0.70881-0.81667.h5\n",
      "23/23 [==============================] - 107s 5s/step - loss: 0.4509 - categorical_accuracy: 0.9014 - val_loss: 0.7088 - val_categorical_accuracy: 0.8167 - lr: 1.0000e-06\n",
      "Epoch 29/30\n",
      "23/23 [==============================] - ETA: 0s - loss: 0.4588 - categorical_accuracy: 0.8899\n",
      "Epoch 29: saving model to model_init_2023-03-0521_12_26.711293\\model-00029-0.45879-0.88986-0.68498-0.84167.h5\n",
      "\n",
      "Epoch 29: ReduceLROnPlateau reducing learning rate to 1.0000001111620805e-07.\n",
      "23/23 [==============================] - 100s 4s/step - loss: 0.4588 - categorical_accuracy: 0.8899 - val_loss: 0.6850 - val_categorical_accuracy: 0.8417 - lr: 1.0000e-06\n",
      "Epoch 30/30\n",
      "23/23 [==============================] - ETA: 0s - loss: 0.4400 - categorical_accuracy: 0.9072\n",
      "Epoch 30: saving model to model_init_2023-03-0521_12_26.711293\\model-00030-0.43996-0.90725-0.61472-0.88333.h5\n",
      "23/23 [==============================] - 108s 5s/step - loss: 0.4400 - categorical_accuracy: 0.9072 - val_loss: 0.6147 - val_categorical_accuracy: 0.8833 - lr: 1.0000e-07\n"
     ]
    },
    {
     "data": {
      "text/plain": [
       "<keras.callbacks.History at 0x1a7193ad750>"
      ]
     },
     "execution_count": 61,
     "metadata": {},
     "output_type": "execute_result"
    }
   ],
   "source": [
    "#_generator\n",
    "model.fit(train_generator, steps_per_epoch=steps_per_epoch, epochs=num_epochs, verbose=1, \n",
    "                    callbacks=callbacks_list, validation_data=val_generator, \n",
    "                    validation_steps=validation_steps, class_weight=None, workers=1, initial_epoch=0)"
   ]
  },
  {
   "cell_type": "code",
   "execution_count": 62,
   "metadata": {},
   "outputs": [
    {
     "name": "stdout",
     "output_type": "stream",
     "text": [
      "<keras.callbacks.History object at 0x000001A7193AD750>\n"
     ]
    }
   ],
   "source": [
    "print(model.history)"
   ]
  },
  {
   "cell_type": "code",
   "execution_count": 63,
   "metadata": {},
   "outputs": [],
   "source": [
    "import matplotlib.pyplot as plt\n",
    "\n",
    "class PlotMetrics():\n",
    "    \n",
    "    def draw(self, history):\n",
    "        # ===> loss summary\n",
    "        \n",
    "        f, (ax1, ax2) = plt.subplots(1, 2, sharey=False)\n",
    "        f.set_figheight(5)\n",
    "        f.set_figwidth(15)\n",
    "        \n",
    "        ax1.plot(history.history['val_categorical_accuracy'])\n",
    "        ax1.plot(history.history['categorical_accuracy'])\n",
    "        ax1.title.set_text('model accuracy')\n",
    "        ax1.set_ylabel('accuracy')\n",
    "        ax1.set_xlabel('epoch')\n",
    "        ax1.legend(['train', 'test'], loc='upper left')\n",
    "        \n",
    "        ax2.plot(history.history['val_loss'])\n",
    "        ax2.plot(history.history['loss'])\n",
    "        ax2.title.set_text('Loss function')\n",
    "        ax2.set_ylabel('Loss')\n",
    "        ax2.set_xlabel('epoch')\n",
    "        ax2.legend(['train', 'test'], loc='upper left')\n",
    "        plt.show()\n",
    "        \n",
    "        "
   ]
  },
  {
   "cell_type": "code",
   "execution_count": 64,
   "metadata": {},
   "outputs": [
    {
     "data": {
      "image/png": "[encoded data removed]",
      "text/plain": [
       "<Figure size 1080x360 with 2 Axes>"
      ]
     },
     "metadata": {
      "needs_background": "light"
     },
     "output_type": "display_data"
    }
   ],
   "source": [
    "obj= PlotMetrics()\n",
    "obj.draw(model.history)"
   ]
  },
  {
   "cell_type": "markdown",
   "metadata": {},
   "source": [
    "## CONV3D Model:"
   ]
  },
  {
   "cell_type": "code",
   "execution_count": 65,
   "metadata": {},
   "outputs": [],
   "source": [
    "class convolution3D():\n",
    "    def __init__(self):\n",
    "        return None\n",
    "    \n",
    "    def model2(self, batch_size):\n",
    "        model = Sequential()\n",
    "      \n",
    "        model.add(Conv3D(8, kernel_size=(3, 3, 3),activation='relu', padding=\"same\",input_shape=(10, 100, 100, 3)))\n",
    "        model.add(MaxPooling3D(pool_size=(2, 2, 2)))\n",
    "        model.add(BatchNormalization())\n",
    "        \n",
    "        model.add(Conv3D(16, kernel_size=(3, 3, 3),activation='relu', padding=\"same\",\n",
    "                         kernel_regularizer=regularizers.l2(0.01),\n",
    "                        bias_regularizer=regularizers.l2(0.01)))\n",
    "        model.add(MaxPooling3D(pool_size=(2, 2, 2)))\n",
    "        model.add(BatchNormalization())\n",
    "        \n",
    "        model.add(Conv3D(32, kernel_size=(3, 3, 3),activation='relu', padding=\"same\",\n",
    "                         kernel_regularizer=regularizers.l2(0.01),\n",
    "                        bias_regularizer=regularizers.l2(0.01)))\n",
    "        model.add(MaxPooling3D(pool_size=(2, 2, 2)))\n",
    "        model.add(BatchNormalization())\n",
    "        \n",
    "        \n",
    "        model.add(Conv3D(32, kernel_size=(3, 3, 3),activation='relu', padding=\"same\",\n",
    "                         kernel_regularizer=regularizers.l2(0.01),\n",
    "                        bias_regularizer=regularizers.l2(0.01)))\n",
    "        model.add(MaxPooling3D(pool_size=(2, 2, 1), data_format=\"channels_first\"))\n",
    "                               #strides=None, dim_ordering='th'))\n",
    "        model.add(BatchNormalization())\n",
    "        \n",
    "        model.add(Conv3D(64, kernel_size=(3, 3, 3),activation='relu', padding=\"same\",\n",
    "                         kernel_regularizer=regularizers.l2(0.01),\n",
    "                        bias_regularizer=regularizers.l2(0.01)))\n",
    "        \n",
    "        model.add(MaxPooling3D(pool_size=(2, 2, 1),data_format=\"channels_first\"))\n",
    "                               #strides=None, dim_ordering='th'))\n",
    "        model.add(BatchNormalization())\n",
    "        \n",
    "        model.add(Conv3D(128, kernel_size=(3, 3, 3),activation='relu', padding=\"same\",\n",
    "                         kernel_regularizer=regularizers.l2(0.01),\n",
    "                        bias_regularizer=regularizers.l2(0.01)))\n",
    "        model.add(MaxPooling3D(pool_size=(2, 2, 2),data_format=\"channels_first\"))\n",
    "                               #strides=None, dim_ordering='th'))\n",
    "        model.add(BatchNormalization())\n",
    "        \n",
    "       \n",
    "        model.add(Dropout(0.25))\n",
    "        model.add(Flatten())\n",
    "        model.add(Dense(256,activation='relu'))\n",
    "        model.add(Dropout(0.5))\n",
    "        model.add(Dense(128,activation='relu'))\n",
    "        model.add(Dropout(0.5))\n",
    "        model.add(Dense(64,activation='relu'))\n",
    "        model.add(Dropout(0.5))\n",
    "        model.add(Dense(5, activation='softmax'))\n",
    "        return model"
   ]
  },
  {
   "cell_type": "code",
   "execution_count": 66,
   "metadata": {},
   "outputs": [
    {
     "name": "stdout",
     "output_type": "stream",
     "text": [
      "Model: \"sequential_5\"\n",
      "_________________________________________________________________\n",
      " Layer (type)                Output Shape              Param #   \n",
      "=================================================================\n",
      " conv3d_12 (Conv3D)          (None, 10, 100, 100, 8)   656       \n",
      "                                                                 \n",
      " max_pooling3d_12 (MaxPoolin  (None, 5, 50, 50, 8)     0         \n",
      " g3D)                                                            \n",
      "                                                                 \n",
      " batch_normalization_21 (Bat  (None, 5, 50, 50, 8)     32        \n",
      " chNormalization)                                                \n",
      "                                                                 \n",
      " conv3d_13 (Conv3D)          (None, 5, 50, 50, 16)     3472      \n",
      "                                                                 \n",
      " max_pooling3d_13 (MaxPoolin  (None, 2, 25, 25, 16)    0         \n",
      " g3D)                                                            \n",
      "                                                                 \n",
      " batch_normalization_22 (Bat  (None, 2, 25, 25, 16)    64        \n",
      " chNormalization)                                                \n",
      "                                                                 \n",
      " conv3d_14 (Conv3D)          (None, 2, 25, 25, 32)     13856     \n",
      "                                                                 \n",
      " max_pooling3d_14 (MaxPoolin  (None, 1, 12, 12, 32)    0         \n",
      " g3D)                                                            \n",
      "                                                                 \n",
      " batch_normalization_23 (Bat  (None, 1, 12, 12, 32)    128       \n",
      " chNormalization)                                                \n",
      "                                                                 \n",
      " conv3d_15 (Conv3D)          (None, 1, 12, 12, 32)     27680     \n",
      "                                                                 \n",
      " max_pooling3d_15 (MaxPoolin  (None, 1, 6, 6, 32)      0         \n",
      " g3D)                                                            \n",
      "                                                                 \n",
      " batch_normalization_24 (Bat  (None, 1, 6, 6, 32)      128       \n",
      " chNormalization)                                                \n",
      "                                                                 \n",
      " conv3d_16 (Conv3D)          (None, 1, 6, 6, 64)       55360     \n",
      "                                                                 \n",
      " max_pooling3d_16 (MaxPoolin  (None, 1, 3, 3, 64)      0         \n",
      " g3D)                                                            \n",
      "                                                                 \n",
      " batch_normalization_25 (Bat  (None, 1, 3, 3, 64)      256       \n",
      " chNormalization)                                                \n",
      "                                                                 \n",
      " conv3d_17 (Conv3D)          (None, 1, 3, 3, 128)      221312    \n",
      "                                                                 \n",
      " max_pooling3d_17 (MaxPoolin  (None, 1, 1, 1, 64)      0         \n",
      " g3D)                                                            \n",
      "                                                                 \n",
      " batch_normalization_26 (Bat  (None, 1, 1, 1, 64)      256       \n",
      " chNormalization)                                                \n",
      "                                                                 \n",
      " dropout_20 (Dropout)        (None, 1, 1, 1, 64)       0         \n",
      "                                                                 \n",
      " flatten_5 (Flatten)         (None, 64)                0         \n",
      "                                                                 \n",
      " dense_14 (Dense)            (None, 256)               16640     \n",
      "                                                                 \n",
      " dropout_21 (Dropout)        (None, 256)               0         \n",
      "                                                                 \n",
      " dense_15 (Dense)            (None, 128)               32896     \n",
      "                                                                 \n",
      " dropout_22 (Dropout)        (None, 128)               0         \n",
      "                                                                 \n",
      " dense_16 (Dense)            (None, 64)                8256      \n",
      "                                                                 \n",
      " dropout_23 (Dropout)        (None, 64)                0         \n",
      "                                                                 \n",
      " dense_17 (Dense)            (None, 5)                 325       \n",
      "                                                                 \n",
      "=================================================================\n",
      "Total params: 381,317\n",
      "Trainable params: 380,885\n",
      "Non-trainable params: 432\n",
      "_________________________________________________________________\n",
      "None\n"
     ]
    }
   ],
   "source": [
    "obj = convolution3D()\n",
    "conv3d_model = obj.model2(batch_size)\n",
    "conv3d_optimiser = optimizers.Adam() #write your optimizer\n",
    "\n",
    "conv3d_model.compile(optimizer=conv3d_optimiser, loss='categorical_crossentropy', metrics=['categorical_accuracy'])\n",
    "print (conv3d_model.summary())"
   ]
  },
  {
   "cell_type": "code",
   "execution_count": 67,
   "metadata": {},
   "outputs": [
    {
     "name": "stdout",
     "output_type": "stream",
     "text": [
      "WARNING:tensorflow:`period` argument is deprecated. Please use `save_freq` to specify the frequency in number of batches seen.\n"
     ]
    }
   ],
   "source": [
    "model_name = 'model_init' + '_' + str(curr_dt_time).replace(' ','').replace(':','_') + '/'\n",
    "    \n",
    "if not os.path.exists(model_name):\n",
    "    os.mkdir(model_name)\n",
    "        \n",
    "filepath = model_name + 'model_3d-{epoch:05d}-{loss:.5f}-{categorical_accuracy:.5f}-{val_loss:.5f}-{val_categorical_accuracy:.5f}.h5'\n",
    "\n",
    "checkpoint = ModelCheckpoint(filepath, monitor='val_loss', verbose=1, save_best_only=False, save_weights_only=False, mode='auto', period=1)\n",
    "\n",
    "LR = DecayLR(base_lr=0.1) # write the REducelronplateau code here\n",
    "# callbacks_list = [checkpoint, LR]\n",
    "# roc_callback = RocCallback()\n",
    "callbacks_list = [reduceLR,checkpoint]"
   ]
  },
  {
   "cell_type": "code",
   "execution_count": 68,
   "metadata": {},
   "outputs": [
    {
     "name": "stderr",
     "output_type": "stream",
     "text": [
      "C:\\Users\\kanik\\AppData\\Local\\Temp\\ipykernel_25664\\1917064895.py:1: UserWarning: `Model.fit_generator` is deprecated and will be removed in a future version. Please use `Model.fit`, which supports generators.\n",
      "  conv3d_model_history = conv3d_model.fit_generator(train_generator,\n"
     ]
    },
    {
     "name": "stdout",
     "output_type": "stream",
     "text": [
      "Epoch 1/30\n",
      "23/23 [==============================] - ETA: 0s - loss: 3.2574 - categorical_accuracy: 0.2014\n",
      "Epoch 1: saving model to model_init_2023-03-0521_12_26.711293\\model_3d-00001-3.25737-0.20145-2.62331-0.25000.h5\n",
      "23/23 [==============================] - 92s 4s/step - loss: 3.2574 - categorical_accuracy: 0.2014 - val_loss: 2.6233 - val_categorical_accuracy: 0.2500 - lr: 0.0010\n",
      "Epoch 2/30\n",
      "23/23 [==============================] - ETA: 0s - loss: 2.5874 - categorical_accuracy: 0.2855\n",
      "Epoch 2: saving model to model_init_2023-03-0521_12_26.711293\\model_3d-00002-2.58743-0.28551-2.51024-0.18333.h5\n",
      "23/23 [==============================] - 85s 4s/step - loss: 2.5874 - categorical_accuracy: 0.2855 - val_loss: 2.5102 - val_categorical_accuracy: 0.1833 - lr: 0.0010\n",
      "Epoch 3/30\n",
      "23/23 [==============================] - ETA: 0s - loss: 2.4207 - categorical_accuracy: 0.3348\n",
      "Epoch 3: saving model to model_init_2023-03-0521_12_26.711293\\model_3d-00003-2.42073-0.33478-2.49902-0.20000.h5\n",
      "23/23 [==============================] - 95s 4s/step - loss: 2.4207 - categorical_accuracy: 0.3348 - val_loss: 2.4990 - val_categorical_accuracy: 0.2000 - lr: 0.0010\n",
      "Epoch 4/30\n",
      "23/23 [==============================] - ETA: 0s - loss: 2.3095 - categorical_accuracy: 0.3652\n",
      "Epoch 4: saving model to model_init_2023-03-0521_12_26.711293\\model_3d-00004-2.30945-0.36522-2.50364-0.15000.h5\n",
      "23/23 [==============================] - 87s 4s/step - loss: 2.3095 - categorical_accuracy: 0.3652 - val_loss: 2.5036 - val_categorical_accuracy: 0.1500 - lr: 0.0010\n",
      "Epoch 5/30\n",
      "23/23 [==============================] - ETA: 0s - loss: 2.2156 - categorical_accuracy: 0.3986\n",
      "Epoch 5: saving model to model_init_2023-03-0521_12_26.711293\\model_3d-00005-2.21556-0.39855-2.49618-0.23333.h5\n",
      "23/23 [==============================] - 91s 4s/step - loss: 2.2156 - categorical_accuracy: 0.3986 - val_loss: 2.4962 - val_categorical_accuracy: 0.2333 - lr: 0.0010\n",
      "Epoch 6/30\n",
      "23/23 [==============================] - ETA: 0s - loss: 2.1062 - categorical_accuracy: 0.4522\n",
      "Epoch 6: saving model to model_init_2023-03-0521_12_26.711293\\model_3d-00006-2.10619-0.45217-2.49092-0.20000.h5\n",
      "23/23 [==============================] - 89s 4s/step - loss: 2.1062 - categorical_accuracy: 0.4522 - val_loss: 2.4909 - val_categorical_accuracy: 0.2000 - lr: 0.0010\n",
      "Epoch 7/30\n",
      "23/23 [==============================] - ETA: 0s - loss: 2.0082 - categorical_accuracy: 0.4826\n",
      "Epoch 7: saving model to model_init_2023-03-0521_12_26.711293\\model_3d-00007-2.00815-0.48261-2.48822-0.29167.h5\n",
      "23/23 [==============================] - 89s 4s/step - loss: 2.0082 - categorical_accuracy: 0.4826 - val_loss: 2.4882 - val_categorical_accuracy: 0.2917 - lr: 0.0010\n",
      "Epoch 8/30\n",
      "23/23 [==============================] - ETA: 0s - loss: 1.9230 - categorical_accuracy: 0.5232\n",
      "Epoch 8: saving model to model_init_2023-03-0521_12_26.711293\\model_3d-00008-1.92300-0.52319-2.60553-0.26667.h5\n",
      "23/23 [==============================] - 92s 4s/step - loss: 1.9230 - categorical_accuracy: 0.5232 - val_loss: 2.6055 - val_categorical_accuracy: 0.2667 - lr: 0.0010\n",
      "Epoch 9/30\n",
      "23/23 [==============================] - ETA: 0s - loss: 1.8464 - categorical_accuracy: 0.5493\n",
      "Epoch 9: ReduceLROnPlateau reducing learning rate to 0.00010000000474974513.\n",
      "\n",
      "Epoch 9: saving model to model_init_2023-03-0521_12_26.711293\\model_3d-00009-1.84642-0.54928-2.50167-0.28333.h5\n",
      "23/23 [==============================] - 90s 4s/step - loss: 1.8464 - categorical_accuracy: 0.5493 - val_loss: 2.5017 - val_categorical_accuracy: 0.2833 - lr: 0.0010\n",
      "Epoch 10/30\n",
      "23/23 [==============================] - ETA: 0s - loss: 1.7725 - categorical_accuracy: 0.5884\n",
      "Epoch 10: saving model to model_init_2023-03-0521_12_26.711293\\model_3d-00010-1.77246-0.58841-2.58012-0.30000.h5\n",
      "23/23 [==============================] - 85s 4s/step - loss: 1.7725 - categorical_accuracy: 0.5884 - val_loss: 2.5801 - val_categorical_accuracy: 0.3000 - lr: 1.0000e-04\n",
      "Epoch 11/30\n",
      "23/23 [==============================] - ETA: 0s - loss: 1.6989 - categorical_accuracy: 0.5942\n",
      "Epoch 11: ReduceLROnPlateau reducing learning rate to 1.0000000474974514e-05.\n",
      "\n",
      "Epoch 11: saving model to model_init_2023-03-0521_12_26.711293\\model_3d-00011-1.69887-0.59420-2.52951-0.35000.h5\n",
      "23/23 [==============================] - 92s 4s/step - loss: 1.6989 - categorical_accuracy: 0.5942 - val_loss: 2.5295 - val_categorical_accuracy: 0.3500 - lr: 1.0000e-04\n",
      "Epoch 12/30\n",
      "23/23 [==============================] - ETA: 0s - loss: 1.6606 - categorical_accuracy: 0.6449\n",
      "Epoch 12: saving model to model_init_2023-03-0521_12_26.711293\\model_3d-00012-1.66057-0.64493-2.59535-0.33333.h5\n",
      "23/23 [==============================] - 87s 4s/step - loss: 1.6606 - categorical_accuracy: 0.6449 - val_loss: 2.5953 - val_categorical_accuracy: 0.3333 - lr: 1.0000e-05\n",
      "Epoch 13/30\n",
      "23/23 [==============================] - ETA: 0s - loss: 1.6539 - categorical_accuracy: 0.6551\n",
      "Epoch 13: saving model to model_init_2023-03-0521_12_26.711293\\model_3d-00013-1.65392-0.65507-2.45833-0.35833.h5\n",
      "23/23 [==============================] - 93s 4s/step - loss: 1.6539 - categorical_accuracy: 0.6551 - val_loss: 2.4583 - val_categorical_accuracy: 0.3583 - lr: 1.0000e-05\n",
      "Epoch 14/30\n",
      "23/23 [==============================] - ETA: 0s - loss: 1.6609 - categorical_accuracy: 0.6203\n",
      "Epoch 14: saving model to model_init_2023-03-0521_12_26.711293\\model_3d-00014-1.66090-0.62029-2.49497-0.37500.h5\n",
      "23/23 [==============================] - 90s 4s/step - loss: 1.6609 - categorical_accuracy: 0.6203 - val_loss: 2.4950 - val_categorical_accuracy: 0.3750 - lr: 1.0000e-05\n",
      "Epoch 15/30\n",
      "23/23 [==============================] - ETA: 0s - loss: 1.6700 - categorical_accuracy: 0.6333\n",
      "Epoch 15: saving model to model_init_2023-03-0521_12_26.711293\\model_3d-00015-1.66999-0.63333-2.42384-0.37500.h5\n",
      "23/23 [==============================] - 87s 4s/step - loss: 1.6700 - categorical_accuracy: 0.6333 - val_loss: 2.4238 - val_categorical_accuracy: 0.3750 - lr: 1.0000e-05\n",
      "Epoch 16/30\n",
      "23/23 [==============================] - ETA: 0s - loss: 1.6583 - categorical_accuracy: 0.6333\n",
      "Epoch 16: saving model to model_init_2023-03-0521_12_26.711293\\model_3d-00016-1.65826-0.63333-2.33196-0.40000.h5\n",
      "23/23 [==============================] - 94s 4s/step - loss: 1.6583 - categorical_accuracy: 0.6333 - val_loss: 2.3320 - val_categorical_accuracy: 0.4000 - lr: 1.0000e-05\n",
      "Epoch 17/30\n",
      "23/23 [==============================] - ETA: 0s - loss: 1.6735 - categorical_accuracy: 0.6130\n",
      "Epoch 17: saving model to model_init_2023-03-0521_12_26.711293\\model_3d-00017-1.67353-0.61304-2.49499-0.37500.h5\n",
      "23/23 [==============================] - 90s 4s/step - loss: 1.6735 - categorical_accuracy: 0.6130 - val_loss: 2.4950 - val_categorical_accuracy: 0.3750 - lr: 1.0000e-05\n",
      "Epoch 18/30\n",
      "23/23 [==============================] - ETA: 0s - loss: 1.6706 - categorical_accuracy: 0.6319\n",
      "Epoch 18: saving model to model_init_2023-03-0521_12_26.711293\\model_3d-00018-1.67060-0.63188-2.18597-0.44167.h5\n",
      "23/23 [==============================] - 85s 4s/step - loss: 1.6706 - categorical_accuracy: 0.6319 - val_loss: 2.1860 - val_categorical_accuracy: 0.4417 - lr: 1.0000e-05\n",
      "Epoch 19/30\n",
      "23/23 [==============================] - ETA: 0s - loss: 1.6800 - categorical_accuracy: 0.6217\n",
      "Epoch 19: saving model to model_init_2023-03-0521_12_26.711293\\model_3d-00019-1.68004-0.62174-2.18307-0.44167.h5\n",
      "23/23 [==============================] - 90s 4s/step - loss: 1.6800 - categorical_accuracy: 0.6217 - val_loss: 2.1831 - val_categorical_accuracy: 0.4417 - lr: 1.0000e-05\n",
      "Epoch 20/30\n",
      "23/23 [==============================] - ETA: 0s - loss: 1.6341 - categorical_accuracy: 0.6406\n",
      "Epoch 20: saving model to model_init_2023-03-0521_12_26.711293\\model_3d-00020-1.63408-0.64058-1.94839-0.50000.h5\n",
      "23/23 [==============================] - 87s 4s/step - loss: 1.6341 - categorical_accuracy: 0.6406 - val_loss: 1.9484 - val_categorical_accuracy: 0.5000 - lr: 1.0000e-05\n",
      "Epoch 21/30\n",
      "23/23 [==============================] - ETA: 0s - loss: 1.6594 - categorical_accuracy: 0.6348\n",
      "Epoch 21: saving model to model_init_2023-03-0521_12_26.711293\\model_3d-00021-1.65940-0.63478-1.88442-0.55000.h5\n",
      "23/23 [==============================] - 89s 4s/step - loss: 1.6594 - categorical_accuracy: 0.6348 - val_loss: 1.8844 - val_categorical_accuracy: 0.5500 - lr: 1.0000e-05\n"
     ]
    },
    {
     "name": "stdout",
     "output_type": "stream",
     "text": [
      "Epoch 22/30\n",
      "23/23 [==============================] - ETA: 0s - loss: 1.6832 - categorical_accuracy: 0.6043\n",
      "Epoch 22: saving model to model_init_2023-03-0521_12_26.711293\\model_3d-00022-1.68317-0.60435-1.97958-0.49167.h5\n",
      "23/23 [==============================] - 89s 4s/step - loss: 1.6832 - categorical_accuracy: 0.6043 - val_loss: 1.9796 - val_categorical_accuracy: 0.4917 - lr: 1.0000e-05\n",
      "Epoch 23/30\n",
      "23/23 [==============================] - ETA: 0s - loss: 1.6600 - categorical_accuracy: 0.6290\n",
      "Epoch 23: saving model to model_init_2023-03-0521_12_26.711293\\model_3d-00023-1.66001-0.62899-1.87106-0.56667.h5\n",
      "23/23 [==============================] - 89s 4s/step - loss: 1.6600 - categorical_accuracy: 0.6290 - val_loss: 1.8711 - val_categorical_accuracy: 0.5667 - lr: 1.0000e-05\n",
      "Epoch 24/30\n",
      "23/23 [==============================] - ETA: 0s - loss: 1.6363 - categorical_accuracy: 0.6333\n",
      "Epoch 24: saving model to model_init_2023-03-0521_12_26.711293\\model_3d-00024-1.63627-0.63333-1.78433-0.57500.h5\n",
      "23/23 [==============================] - 93s 4s/step - loss: 1.6363 - categorical_accuracy: 0.6333 - val_loss: 1.7843 - val_categorical_accuracy: 0.5750 - lr: 1.0000e-05\n",
      "Epoch 25/30\n",
      "23/23 [==============================] - ETA: 0s - loss: 1.6233 - categorical_accuracy: 0.6435\n",
      "Epoch 25: saving model to model_init_2023-03-0521_12_26.711293\\model_3d-00025-1.62331-0.64348-1.70269-0.60833.h5\n",
      "23/23 [==============================] - 91s 4s/step - loss: 1.6233 - categorical_accuracy: 0.6435 - val_loss: 1.7027 - val_categorical_accuracy: 0.6083 - lr: 1.0000e-05\n",
      "Epoch 26/30\n",
      "23/23 [==============================] - ETA: 0s - loss: 1.6802 - categorical_accuracy: 0.6145\n",
      "Epoch 26: saving model to model_init_2023-03-0521_12_26.711293\\model_3d-00026-1.68016-0.61449-1.71520-0.60833.h5\n",
      "23/23 [==============================] - 78s 3s/step - loss: 1.6802 - categorical_accuracy: 0.6145 - val_loss: 1.7152 - val_categorical_accuracy: 0.6083 - lr: 1.0000e-05\n",
      "Epoch 27/30\n",
      "23/23 [==============================] - ETA: 0s - loss: 1.6260 - categorical_accuracy: 0.6420\n",
      "Epoch 27: saving model to model_init_2023-03-0521_12_26.711293\\model_3d-00027-1.62603-0.64203-1.63111-0.65000.h5\n",
      "23/23 [==============================] - 79s 4s/step - loss: 1.6260 - categorical_accuracy: 0.6420 - val_loss: 1.6311 - val_categorical_accuracy: 0.6500 - lr: 1.0000e-05\n",
      "Epoch 28/30\n",
      "23/23 [==============================] - ETA: 0s - loss: 1.6592 - categorical_accuracy: 0.6043\n",
      "Epoch 28: saving model to model_init_2023-03-0521_12_26.711293\\model_3d-00028-1.65924-0.60435-1.63660-0.64167.h5\n",
      "23/23 [==============================] - 77s 3s/step - loss: 1.6592 - categorical_accuracy: 0.6043 - val_loss: 1.6366 - val_categorical_accuracy: 0.6417 - lr: 1.0000e-05\n",
      "Epoch 29/30\n",
      "23/23 [==============================] - ETA: 0s - loss: 1.6532 - categorical_accuracy: 0.6275\n",
      "Epoch 29: saving model to model_init_2023-03-0521_12_26.711293\\model_3d-00029-1.65317-0.62754-1.60035-0.66667.h5\n",
      "23/23 [==============================] - 77s 3s/step - loss: 1.6532 - categorical_accuracy: 0.6275 - val_loss: 1.6004 - val_categorical_accuracy: 0.6667 - lr: 1.0000e-05\n",
      "Epoch 30/30\n",
      "23/23 [==============================] - ETA: 0s - loss: 1.6342 - categorical_accuracy: 0.6507\n",
      "Epoch 30: saving model to model_init_2023-03-0521_12_26.711293\\model_3d-00030-1.63422-0.65072-1.56262-0.70833.h5\n",
      "23/23 [==============================] - 78s 3s/step - loss: 1.6342 - categorical_accuracy: 0.6507 - val_loss: 1.5626 - val_categorical_accuracy: 0.7083 - lr: 1.0000e-05\n"
     ]
    }
   ],
   "source": [
    "conv3d_model_history = conv3d_model.fit_generator(train_generator,\n",
    "                                           steps_per_epoch=steps_per_epoch,\n",
    "                                           epochs=num_epochs,\n",
    "                                           verbose=1,\n",
    "                                           callbacks=callbacks_list,\n",
    "                                           validation_data=val_generator,\n",
    "                                           validation_steps=validation_steps,\n",
    "                                           class_weight=None,\n",
    "                                           workers=1,\n",
    "                                           initial_epoch=0)"
   ]
  },
  {
   "cell_type": "code",
   "execution_count": 69,
   "metadata": {},
   "outputs": [
    {
     "name": "stdout",
     "output_type": "stream",
     "text": [
      "{'loss': [3.2573657035827637, 2.5874288082122803, 2.420734167098999, 2.3094522953033447, 2.2155604362487793, 2.1061947345733643, 2.0081515312194824, 1.9230029582977295, 1.8464215993881226, 1.7724566459655762, 1.6988712549209595, 1.6605665683746338, 1.653918981552124, 1.6608980894088745, 1.6699919700622559, 1.6582646369934082, 1.6735340356826782, 1.6706031560897827, 1.6800442934036255, 1.6340769529342651, 1.6594041585922241, 1.6831672191619873, 1.6600106954574585, 1.6362680196762085, 1.6233069896697998, 1.6801552772521973, 1.62602698802948, 1.6592419147491455, 1.6531730890274048, 1.6342198848724365], 'categorical_accuracy': [0.20144927501678467, 0.2855072319507599, 0.33478260040283203, 0.365217387676239, 0.39855071902275085, 0.4521739184856415, 0.48260870575904846, 0.5231884121894836, 0.5492753386497498, 0.5884057879447937, 0.5942028760910034, 0.6449275612831116, 0.6550724506378174, 0.6202898621559143, 0.6333333253860474, 0.6333333253860474, 0.613043487071991, 0.6318840384483337, 0.6217391490936279, 0.6405797004699707, 0.634782612323761, 0.604347825050354, 0.6289855241775513, 0.6333333253860474, 0.643478274345398, 0.6144927740097046, 0.6420289874076843, 0.604347825050354, 0.6275362372398376, 0.6507246494293213], 'val_loss': [2.623310089111328, 2.5102381706237793, 2.4990150928497314, 2.503640651702881, 2.4961788654327393, 2.4909164905548096, 2.4882233142852783, 2.605530023574829, 2.501668691635132, 2.5801210403442383, 2.529510974884033, 2.5953469276428223, 2.4583280086517334, 2.494967222213745, 2.423844337463379, 2.3319621086120605, 2.494985342025757, 2.1859724521636963, 2.1830666065216064, 1.9483927488327026, 1.884419322013855, 1.9795783758163452, 1.871057152748108, 1.7843304872512817, 1.7026937007904053, 1.7152020931243896, 1.6311074495315552, 1.6366032361984253, 1.6003508567810059, 1.5626235008239746], 'val_categorical_accuracy': [0.25, 0.18333333730697632, 0.20000000298023224, 0.15000000596046448, 0.23333333432674408, 0.20000000298023224, 0.2916666567325592, 0.2666666805744171, 0.28333333134651184, 0.30000001192092896, 0.3499999940395355, 0.3333333432674408, 0.3583333194255829, 0.375, 0.375, 0.4000000059604645, 0.375, 0.4416666626930237, 0.4416666626930237, 0.5, 0.550000011920929, 0.49166667461395264, 0.5666666626930237, 0.574999988079071, 0.6083333492279053, 0.6083333492279053, 0.6499999761581421, 0.6416666507720947, 0.6666666865348816, 0.7083333134651184], 'lr': [0.001, 0.001, 0.001, 0.001, 0.001, 0.001, 0.001, 0.001, 0.001, 0.000100000005, 0.000100000005, 1.0000001e-05, 1.0000001e-05, 1.0000001e-05, 1.0000001e-05, 1.0000001e-05, 1.0000001e-05, 1.0000001e-05, 1.0000001e-05, 1.0000001e-05, 1.0000001e-05, 1.0000001e-05, 1.0000001e-05, 1.0000001e-05, 1.0000001e-05, 1.0000001e-05, 1.0000001e-05, 1.0000001e-05, 1.0000001e-05, 1.0000001e-05]}\n"
     ]
    },
    {
     "data": {
      "image/png": "[encoded data removed]",
      "text/plain": [
       "<Figure size 1080x360 with 2 Axes>"
      ]
     },
     "metadata": {
      "needs_background": "light"
     },
     "output_type": "display_data"
    }
   ],
   "source": [
    "print(conv3d_model_history.history)\n",
    "obj= PlotMetrics()\n",
    "obj.draw(conv3d_model_history)"
   ]
  },
  {
   "cell_type": "code",
   "execution_count": null,
   "metadata": {},
   "outputs": [],
   "source": []
  },
  {
   "cell_type": "code",
   "execution_count": null,
   "metadata": {},
   "outputs": [],
   "source": []
  },
  {
   "cell_type": "markdown",
   "metadata": {},
   "source": []
  }
 ],
 "metadata": {
  "kernelspec": {
   "display_name": "Python 3 (ipykernel)",
   "language": "python",
   "name": "python3"
  },
  "language_info": {
   "codemirror_mode": {
    "name": "ipython",
    "version": 3
   },
   "file_extension": ".py",
   "mimetype": "text/x-python",
   "name": "python",
   "nbconvert_exporter": "python",
   "pygments_lexer": "ipython3",
   "version": "3.10.5"
  }
 },
 "nbformat": 4,
 "nbformat_minor": 2
}
